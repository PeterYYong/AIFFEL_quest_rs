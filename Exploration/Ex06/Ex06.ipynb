{
 "cells": [
  {
   "cell_type": "code",
   "execution_count": 1,
   "metadata": {
    "colab": {
     "base_uri": "https://localhost:8080/"
    },
    "id": "tw3tXfz2pHVg",
    "outputId": "f058b16d-4902-4a61-bb41-8cd2eb369547"
   },
   "outputs": [
    {
     "name": "stdout",
     "output_type": "stream",
     "text": [
      "Requirement already satisfied: summa in /opt/conda/lib/python3.9/site-packages (1.2.0)\n",
      "Requirement already satisfied: scipy>=0.19 in /opt/conda/lib/python3.9/site-packages (from summa) (1.7.1)\n",
      "Requirement already satisfied: numpy<1.23.0,>=1.16.5 in /opt/conda/lib/python3.9/site-packages (from scipy>=0.19->summa) (1.21.4)\n",
      "\u001b[33mWARNING: Running pip as the 'root' user can result in broken permissions and conflicting behaviour with the system package manager. It is recommended to use a virtual environment instead: https://pip.pypa.io/warnings/venv\u001b[0m\n",
      "Note: you may need to restart the kernel to use updated packages.\n"
     ]
    }
   ],
   "source": [
    "pip install summa"
   ]
  },
  {
   "cell_type": "code",
   "execution_count": 2,
   "metadata": {
    "colab": {
     "base_uri": "https://localhost:8080/"
    },
    "id": "E0gR6x-RwaNq",
    "outputId": "0be174e9-3d85-4929-c43b-9dbade6ce7b2"
   },
   "outputs": [
    {
     "name": "stdout",
     "output_type": "stream",
     "text": [
      "Requirement already satisfied: nltk in /opt/conda/lib/python3.9/site-packages (3.6.5)\n",
      "Requirement already satisfied: tqdm in /opt/conda/lib/python3.9/site-packages (from nltk) (4.62.3)\n",
      "Requirement already satisfied: click in /opt/conda/lib/python3.9/site-packages (from nltk) (8.0.3)\n",
      "Requirement already satisfied: joblib in /opt/conda/lib/python3.9/site-packages (from nltk) (1.1.0)\n",
      "Requirement already satisfied: regex>=2021.8.3 in /opt/conda/lib/python3.9/site-packages (from nltk) (2021.11.10)\n",
      "\u001b[33mWARNING: Running pip as the 'root' user can result in broken permissions and conflicting behaviour with the system package manager. It is recommended to use a virtual environment instead: https://pip.pypa.io/warnings/venv\u001b[0m\n",
      "Note: you may need to restart the kernel to use updated packages.\n"
     ]
    }
   ],
   "source": [
    "pip install nltk"
   ]
  },
  {
   "cell_type": "markdown",
   "metadata": {
    "id": "92CzHjt8pAkT"
   },
   "source": [
    "라이브러리 버전을 확인"
   ]
  },
  {
   "cell_type": "code",
   "execution_count": 3,
   "metadata": {
    "colab": {
     "base_uri": "https://localhost:8080/"
    },
    "id": "LoCj5wfEo7dk",
    "outputId": "4840d9ae-2be9-4d4d-d3ed-03e5ac088ec5"
   },
   "outputs": [
    {
     "name": "stdout",
     "output_type": "stream",
     "text": [
      "3.6.5\n",
      "2.6.0\n",
      "1.3.3\n",
      "1.2.0\n"
     ]
    }
   ],
   "source": [
    "#라이브러리 버전을 확인\n",
    "from importlib.metadata import version\n",
    "import nltk\n",
    "import tensorflow\n",
    "import summa\n",
    "import pandas as pd\n",
    "\n",
    "print(nltk.__version__)\n",
    "print(tensorflow.__version__)\n",
    "print(pd.__version__)\n",
    "print(version('summa'))"
   ]
  },
  {
   "cell_type": "code",
   "execution_count": 4,
   "metadata": {
    "id": "GZGthzpmxd6O"
   },
   "outputs": [],
   "source": [
    "import pandas as pd\n",
    "import numpy as np\n",
    "from tensorflow.keras.models import Model\n",
    "from tensorflow.keras.layers import Input, Embedding, LSTM, Dense, Concatenate, TimeDistributed\n",
    "from tensorflow.keras.preprocessing.text import Tokenizer\n",
    "from tensorflow.keras.preprocessing.sequence import pad_sequences\n",
    "from tensorflow.keras.callbacks import EarlyStopping\n",
    "from summa.summarizer import summarize\n",
    "import matplotlib.pyplot as plt\n"
   ]
  },
  {
   "cell_type": "markdown",
   "metadata": {
    "id": "pyVqMxUVpR4Z"
   },
   "source": [
    "## Step 1. 데이터 수집하기\n",
    "데이터는 아래 링크에 있는 뉴스 기사 데이터(news_summary_more.csv)를 사용하세요.\n",
    "\n",
    "sunnysai12345/News_Summary[https://github.com/sunnysai12345/News_Summary]\n"
   ]
  },
  {
   "cell_type": "code",
   "execution_count": 5,
   "metadata": {
    "id": "pPF1iuB0pOpd"
   },
   "outputs": [],
   "source": [
    "import urllib.request\n",
    "urllib.request.urlretrieve(\"https://raw.githubusercontent.com/sunnysai12345/News_Summary/master/news_summary_more.csv\", filename=\"news_summary_more.csv\")\n",
    "data = pd.read_csv('news_summary_more.csv', encoding='iso-8859-1')"
   ]
  },
  {
   "cell_type": "code",
   "execution_count": 6,
   "metadata": {
    "colab": {
     "base_uri": "https://localhost:8080/",
     "height": 363
    },
    "id": "AmKFzFTypkZA",
    "outputId": "c96da978-2ea7-413c-a4ca-514b83ef9f2f"
   },
   "outputs": [
    {
     "data": {
      "text/html": [
       "<div>\n",
       "<style scoped>\n",
       "    .dataframe tbody tr th:only-of-type {\n",
       "        vertical-align: middle;\n",
       "    }\n",
       "\n",
       "    .dataframe tbody tr th {\n",
       "        vertical-align: top;\n",
       "    }\n",
       "\n",
       "    .dataframe thead th {\n",
       "        text-align: right;\n",
       "    }\n",
       "</style>\n",
       "<table border=\"1\" class=\"dataframe\">\n",
       "  <thead>\n",
       "    <tr style=\"text-align: right;\">\n",
       "      <th></th>\n",
       "      <th>headlines</th>\n",
       "      <th>text</th>\n",
       "    </tr>\n",
       "  </thead>\n",
       "  <tbody>\n",
       "    <tr>\n",
       "      <th>68185</th>\n",
       "      <td>Scientists name new spider species after Obama...</td>\n",
       "      <td>US-based researchers have discovered 15 new sp...</td>\n",
       "    </tr>\n",
       "    <tr>\n",
       "      <th>96084</th>\n",
       "      <td>1.8k govt appointments secured using fake cast...</td>\n",
       "      <td>As many as 1,832 appointments in government de...</td>\n",
       "    </tr>\n",
       "    <tr>\n",
       "      <th>46136</th>\n",
       "      <td>Drunk Canadian athlete steals car at Winter Ol...</td>\n",
       "      <td>Canadian skier Dave Duncan, his wife and coach...</td>\n",
       "    </tr>\n",
       "    <tr>\n",
       "      <th>88061</th>\n",
       "      <td>US inks $110 billion military deals with Saudi...</td>\n",
       "      <td>During his first overseas trip as US President...</td>\n",
       "    </tr>\n",
       "    <tr>\n",
       "      <th>54003</th>\n",
       "      <td>Maha CM orders judicial inquiry into Bhima Kor...</td>\n",
       "      <td>Maharashtra CM Devendra Fadnavis has ordered a...</td>\n",
       "    </tr>\n",
       "    <tr>\n",
       "      <th>66918</th>\n",
       "      <td>China issues advisory for citizens travelling ...</td>\n",
       "      <td>China has issued a new advisory for its citize...</td>\n",
       "    </tr>\n",
       "    <tr>\n",
       "      <th>29278</th>\n",
       "      <td>Sunidhi Chauhan shares first picture of her son</td>\n",
       "      <td>Sharing her son's first picture on social medi...</td>\n",
       "    </tr>\n",
       "    <tr>\n",
       "      <th>34563</th>\n",
       "      <td>Gore kar sakte hain to hum bhi: Sehwag in NatW...</td>\n",
       "      <td>After England managed to put up a total of 325...</td>\n",
       "    </tr>\n",
       "    <tr>\n",
       "      <th>57820</th>\n",
       "      <td>Solar capacity of airports may be doubled in 5...</td>\n",
       "      <td>Civil Aviation Minister Ashok Gajapathi Raju h...</td>\n",
       "    </tr>\n",
       "    <tr>\n",
       "      <th>51633</th>\n",
       "      <td>6-yr-old boy stabbed by senior in bathroom at ...</td>\n",
       "      <td>A six-year-old boy was stabbed with a knife on...</td>\n",
       "    </tr>\n",
       "  </tbody>\n",
       "</table>\n",
       "</div>"
      ],
      "text/plain": [
       "                                               headlines  \\\n",
       "68185  Scientists name new spider species after Obama...   \n",
       "96084  1.8k govt appointments secured using fake cast...   \n",
       "46136  Drunk Canadian athlete steals car at Winter Ol...   \n",
       "88061  US inks $110 billion military deals with Saudi...   \n",
       "54003  Maha CM orders judicial inquiry into Bhima Kor...   \n",
       "66918  China issues advisory for citizens travelling ...   \n",
       "29278    Sunidhi Chauhan shares first picture of her son   \n",
       "34563  Gore kar sakte hain to hum bhi: Sehwag in NatW...   \n",
       "57820  Solar capacity of airports may be doubled in 5...   \n",
       "51633  6-yr-old boy stabbed by senior in bathroom at ...   \n",
       "\n",
       "                                                    text  \n",
       "68185  US-based researchers have discovered 15 new sp...  \n",
       "96084  As many as 1,832 appointments in government de...  \n",
       "46136  Canadian skier Dave Duncan, his wife and coach...  \n",
       "88061  During his first overseas trip as US President...  \n",
       "54003  Maharashtra CM Devendra Fadnavis has ordered a...  \n",
       "66918  China has issued a new advisory for its citize...  \n",
       "29278  Sharing her son's first picture on social medi...  \n",
       "34563  After England managed to put up a total of 325...  \n",
       "57820  Civil Aviation Minister Ashok Gajapathi Raju h...  \n",
       "51633  A six-year-old boy was stabbed with a knife on...  "
      ]
     },
     "execution_count": 6,
     "metadata": {},
     "output_type": "execute_result"
    }
   ],
   "source": [
    "data.sample(10)"
   ]
  },
  {
   "cell_type": "markdown",
   "metadata": {
    "id": "2i03m3U7px5v"
   },
   "source": [
    "## Step 2. 데이터 전처리하기 (추상적 요약)\n",
    "실습에서 사용된 전처리를 참고하여 각자 필요하다고 생각하는 전처리를 추가 사용하여 텍스트를 정규화 또는 정제해 보세요. 만약, 불용어 제거를 선택한다면 상대적으로 길이가 짧은 요약 데이터에 대해서도 불용어를 제거하는 것이 좋을지 고민해 보세요.\n"
   ]
  },
  {
   "cell_type": "markdown",
   "metadata": {
    "id": "K_BDDJ4rqKXo"
   },
   "source": [
    "평가문항\n",
    "1. Abstractive 모델 구성을 위한 텍스트 전처리 단계가 체계적으로 진행되었다.\n",
    "\n",
    "상세기준\n",
    "\n",
    "분석단계, 정제단계, 정규화와 불용어 제거, 데이터셋 분리, 인코딩 과정이 빠짐없이 체계적으로 진행되었다."
   ]
  },
  {
   "cell_type": "code",
   "execution_count": 7,
   "metadata": {
    "colab": {
     "base_uri": "https://localhost:8080/",
     "height": 206
    },
    "id": "IrPVjQDmp-TN",
    "outputId": "35aa5f89-4016-48a4-bdf6-8ad6852345f7"
   },
   "outputs": [
    {
     "data": {
      "text/html": [
       "<div>\n",
       "<style scoped>\n",
       "    .dataframe tbody tr th:only-of-type {\n",
       "        vertical-align: middle;\n",
       "    }\n",
       "\n",
       "    .dataframe tbody tr th {\n",
       "        vertical-align: top;\n",
       "    }\n",
       "\n",
       "    .dataframe thead th {\n",
       "        text-align: right;\n",
       "    }\n",
       "</style>\n",
       "<table border=\"1\" class=\"dataframe\">\n",
       "  <thead>\n",
       "    <tr style=\"text-align: right;\">\n",
       "      <th></th>\n",
       "      <th>text</th>\n",
       "      <th>headlines</th>\n",
       "    </tr>\n",
       "  </thead>\n",
       "  <tbody>\n",
       "    <tr>\n",
       "      <th>0</th>\n",
       "      <td>Saurav Kant, an alumnus of upGrad and IIIT-B's...</td>\n",
       "      <td>upGrad learner switches to career in ML &amp; Al w...</td>\n",
       "    </tr>\n",
       "    <tr>\n",
       "      <th>1</th>\n",
       "      <td>Kunal Shah's credit card bill payment platform...</td>\n",
       "      <td>Delhi techie wins free food from Swiggy for on...</td>\n",
       "    </tr>\n",
       "    <tr>\n",
       "      <th>2</th>\n",
       "      <td>New Zealand defeated India by 8 wickets in the...</td>\n",
       "      <td>New Zealand end Rohit Sharma-led India's 12-ma...</td>\n",
       "    </tr>\n",
       "    <tr>\n",
       "      <th>3</th>\n",
       "      <td>With Aegon Life iTerm Insurance plan, customer...</td>\n",
       "      <td>Aegon life iTerm insurance plan helps customer...</td>\n",
       "    </tr>\n",
       "    <tr>\n",
       "      <th>4</th>\n",
       "      <td>Speaking about the sexual harassment allegatio...</td>\n",
       "      <td>Have known Hirani for yrs, what if MeToo claim...</td>\n",
       "    </tr>\n",
       "  </tbody>\n",
       "</table>\n",
       "</div>"
      ],
      "text/plain": [
       "                                                text  \\\n",
       "0  Saurav Kant, an alumnus of upGrad and IIIT-B's...   \n",
       "1  Kunal Shah's credit card bill payment platform...   \n",
       "2  New Zealand defeated India by 8 wickets in the...   \n",
       "3  With Aegon Life iTerm Insurance plan, customer...   \n",
       "4  Speaking about the sexual harassment allegatio...   \n",
       "\n",
       "                                           headlines  \n",
       "0  upGrad learner switches to career in ML & Al w...  \n",
       "1  Delhi techie wins free food from Swiggy for on...  \n",
       "2  New Zealand end Rohit Sharma-led India's 12-ma...  \n",
       "3  Aegon life iTerm insurance plan helps customer...  \n",
       "4  Have known Hirani for yrs, what if MeToo claim...  "
      ]
     },
     "execution_count": 7,
     "metadata": {},
     "output_type": "execute_result"
    }
   ],
   "source": [
    "# 필요한 컬럼 선택\n",
    "data = data[['text', 'headlines']]\n",
    "\n",
    "# 데이터 샘플 확인\n",
    "data.head()"
   ]
  },
  {
   "cell_type": "code",
   "execution_count": 8,
   "metadata": {
    "colab": {
     "base_uri": "https://localhost:8080/"
    },
    "id": "Nj_NXoc6y1Td",
    "outputId": "d0bc6742-64ce-40df-816d-0ddb08fc284a"
   },
   "outputs": [
    {
     "name": "stdout",
     "output_type": "stream",
     "text": [
      "Text 열에서 중복을 배제한 유일한 샘플의 수 : 98360\n",
      "headlines 열에서 중복을 배제한 유일한 샘플의 수 : 98280\n"
     ]
    }
   ],
   "source": [
    "#중복 샘플과 NULL 값이 존재하는 샘플 제거\n",
    "print('Text 열에서 중복을 배제한 유일한 샘플의 수 :', data['text'].nunique())\n",
    "print('headlines 열에서 중복을 배제한 유일한 샘플의 수 :', data['headlines'].nunique())"
   ]
  },
  {
   "cell_type": "code",
   "execution_count": 9,
   "metadata": {
    "colab": {
     "base_uri": "https://localhost:8080/"
    },
    "id": "QdLLKTSkzQth",
    "outputId": "ffbd7b21-ee71-4bac-fcf1-69aeb6d9b180"
   },
   "outputs": [
    {
     "name": "stdout",
     "output_type": "stream",
     "text": [
      "전체 샘플수 : 98360\n",
      "text         0\n",
      "headlines    0\n",
      "dtype: int64\n"
     ]
    }
   ],
   "source": [
    "#데이터프레임에 Null 값이 있는지 확인\n",
    "data.drop_duplicates(subset = ['text'], inplace=True)\n",
    "print('전체 샘플수 :', (len(data)))\n",
    "print(data.isnull().sum())"
   ]
  },
  {
   "cell_type": "markdown",
   "metadata": {
    "id": "KQMb-TalzkG9"
   },
   "source": [
    "텍스트 정규화와 불용어 제거"
   ]
  },
  {
   "cell_type": "code",
   "execution_count": 10,
   "metadata": {
    "colab": {
     "base_uri": "https://localhost:8080/"
    },
    "id": "Gvs_oKVS0KWu",
    "outputId": "40d6ee0d-9d63-4a76-98e2-f21abc4fc459"
   },
   "outputs": [
    {
     "name": "stdout",
     "output_type": "stream",
     "text": [
      "정규화 사전의 수:  120\n"
     ]
    }
   ],
   "source": [
    "contractions = {\"ain't\": \"is not\", \"aren't\": \"are not\",\"can't\": \"cannot\", \"'cause\": \"because\", \"could've\": \"could have\", \"couldn't\": \"could not\",\n",
    "                           \"didn't\": \"did not\",  \"doesn't\": \"does not\", \"don't\": \"do not\", \"hadn't\": \"had not\", \"hasn't\": \"has not\", \"haven't\": \"have not\",\n",
    "                           \"he'd\": \"he would\",\"he'll\": \"he will\", \"he's\": \"he is\", \"how'd\": \"how did\", \"how'd'y\": \"how do you\", \"how'll\": \"how will\", \"how's\": \"how is\",\n",
    "                           \"I'd\": \"I would\", \"I'd've\": \"I would have\", \"I'll\": \"I will\", \"I'll've\": \"I will have\",\"I'm\": \"I am\", \"I've\": \"I have\", \"i'd\": \"i would\",\n",
    "                           \"i'd've\": \"i would have\", \"i'll\": \"i will\",  \"i'll've\": \"i will have\",\"i'm\": \"i am\", \"i've\": \"i have\", \"isn't\": \"is not\", \"it'd\": \"it would\",\n",
    "                           \"it'd've\": \"it would have\", \"it'll\": \"it will\", \"it'll've\": \"it will have\",\"it's\": \"it is\", \"let's\": \"let us\", \"ma'am\": \"madam\",\n",
    "                           \"mayn't\": \"may not\", \"might've\": \"might have\",\"mightn't\": \"might not\",\"mightn't've\": \"might not have\", \"must've\": \"must have\",\n",
    "                           \"mustn't\": \"must not\", \"mustn't've\": \"must not have\", \"needn't\": \"need not\", \"needn't've\": \"need not have\",\"o'clock\": \"of the clock\",\n",
    "                           \"oughtn't\": \"ought not\", \"oughtn't've\": \"ought not have\", \"shan't\": \"shall not\", \"sha'n't\": \"shall not\", \"shan't've\": \"shall not have\",\n",
    "                           \"she'd\": \"she would\", \"she'd've\": \"she would have\", \"she'll\": \"she will\", \"she'll've\": \"she will have\", \"she's\": \"she is\",\n",
    "                           \"should've\": \"should have\", \"shouldn't\": \"should not\", \"shouldn't've\": \"should not have\", \"so've\": \"so have\",\"so's\": \"so as\",\n",
    "                           \"this's\": \"this is\",\"that'd\": \"that would\", \"that'd've\": \"that would have\", \"that's\": \"that is\", \"there'd\": \"there would\",\n",
    "                           \"there'd've\": \"there would have\", \"there's\": \"there is\", \"here's\": \"here is\",\"they'd\": \"they would\", \"they'd've\": \"they would have\",\n",
    "                           \"they'll\": \"they will\", \"they'll've\": \"they will have\", \"they're\": \"they are\", \"they've\": \"they have\", \"to've\": \"to have\",\n",
    "                           \"wasn't\": \"was not\", \"we'd\": \"we would\", \"we'd've\": \"we would have\", \"we'll\": \"we will\", \"we'll've\": \"we will have\", \"we're\": \"we are\",\n",
    "                           \"we've\": \"we have\", \"weren't\": \"were not\", \"what'll\": \"what will\", \"what'll've\": \"what will have\", \"what're\": \"what are\",\n",
    "                           \"what's\": \"what is\", \"what've\": \"what have\", \"when's\": \"when is\", \"when've\": \"when have\", \"where'd\": \"where did\", \"where's\": \"where is\",\n",
    "                           \"where've\": \"where have\", \"who'll\": \"who will\", \"who'll've\": \"who will have\", \"who's\": \"who is\", \"who've\": \"who have\",\n",
    "                           \"why's\": \"why is\", \"why've\": \"why have\", \"will've\": \"will have\", \"won't\": \"will not\", \"won't've\": \"will not have\",\n",
    "                           \"would've\": \"would have\", \"wouldn't\": \"would not\", \"wouldn't've\": \"would not have\", \"y'all\": \"you all\",\n",
    "                           \"y'all'd\": \"you all would\",\"y'all'd've\": \"you all would have\",\"y'all're\": \"you all are\",\"y'all've\": \"you all have\",\n",
    "                           \"you'd\": \"you would\", \"you'd've\": \"you would have\", \"you'll\": \"you will\", \"you'll've\": \"you will have\",\n",
    "                           \"you're\": \"you are\", \"you've\": \"you have\"}\n",
    "\n",
    "print(\"정규화 사전의 수: \", len(contractions))"
   ]
  },
  {
   "cell_type": "code",
   "execution_count": 11,
   "metadata": {
    "id": "H_UCz4xqp-RI"
   },
   "outputs": [],
   "source": [
    "# 전처리 함수\n",
    "def preprocess_sentence(sentence, remove_stopwords=True):\n",
    "    sentence = sentence.lower() # 텍스트 소문자화\n",
    "    sentence = BeautifulSoup(sentence, \"lxml\").text # <br />, <a href = ...> 등의 html 태그 제거\n",
    "    sentence = re.sub(r'\\([^)]*\\)', '', sentence) # 괄호로 닫힌 문자열 (...) 제거 Ex) my husband (and myself!) for => my husband for\n",
    "    sentence = re.sub('\"','', sentence) # 쌍따옴표 \" 제거\n",
    "    sentence = ' '.join([contractions[t] if t in contractions else t for t in sentence.split(\" \")]) # 약어 정규화\n",
    "    sentence = re.sub(r\"'s\\b\",\"\", sentence) # 소유격 제거. Ex) roland's -> roland\n",
    "    sentence = re.sub(\"[^a-zA-Z]\", \" \", sentence) # 영어 외 문자(숫자, 특수문자 등) 공백으로 변환\n",
    "    sentence = re.sub('[m]{2,}', 'mm', sentence) # m이 3개 이상이면 2개로 변경. Ex) ummmmmmm yeah -> umm yeah\n",
    "\n",
    "    # 불용어 제거 (Text)\n",
    "    if remove_stopwords:\n",
    "        tokens = ' '.join(word for word in sentence.split() if not word in stopwords.words('english') if len(word) > 1)\n",
    "    # 불용어 미제거 (Summary)\n",
    "    else:\n",
    "        tokens = ' '.join(word for word in sentence.split() if len(word) > 1)\n",
    "    return tokens\n"
   ]
  },
  {
   "cell_type": "code",
   "execution_count": 12,
   "metadata": {
    "colab": {
     "base_uri": "https://localhost:8080/"
    },
    "id": "TgnkNimbxR0A",
    "outputId": "de1ca872-e22f-42b7-a59e-a47fe983776e"
   },
   "outputs": [
    {
     "name": "stderr",
     "output_type": "stream",
     "text": [
      "[nltk_data] Downloading package stopwords to /aiffel/nltk_data...\n",
      "[nltk_data]   Package stopwords is already up-to-date!\n"
     ]
    },
    {
     "data": {
      "text/plain": [
       "True"
      ]
     },
     "execution_count": 12,
     "metadata": {},
     "output_type": "execute_result"
    }
   ],
   "source": [
    "import re\n",
    "from bs4 import BeautifulSoup\n",
    "from nltk.corpus import stopwords\n",
    "from tensorflow.keras.preprocessing.text import Tokenizer\n",
    "from tensorflow.keras.preprocessing.sequence import pad_sequences\n",
    "\n",
    "nltk.download('stopwords')\n",
    "\n",
    "\n",
    "\n"
   ]
  },
  {
   "cell_type": "code",
   "execution_count": 13,
   "metadata": {},
   "outputs": [],
   "source": [
    "# 전처리 적용\n",
    "data['cleaned_text'] = data['text'].apply(lambda x: preprocess_sentence(x, True))\n",
    "data['cleaned_headlines'] = data['headlines'].apply(lambda x: preprocess_sentence(x, False))\n"
   ]
  },
  {
   "cell_type": "code",
   "execution_count": 14,
   "metadata": {
    "colab": {
     "base_uri": "https://localhost:8080/",
     "height": 206
    },
    "id": "acnGfGkQ39SR",
    "outputId": "fca83c14-fb45-4e38-f430-e39329755e87"
   },
   "outputs": [
    {
     "data": {
      "text/html": [
       "<div>\n",
       "<style scoped>\n",
       "    .dataframe tbody tr th:only-of-type {\n",
       "        vertical-align: middle;\n",
       "    }\n",
       "\n",
       "    .dataframe tbody tr th {\n",
       "        vertical-align: top;\n",
       "    }\n",
       "\n",
       "    .dataframe thead th {\n",
       "        text-align: right;\n",
       "    }\n",
       "</style>\n",
       "<table border=\"1\" class=\"dataframe\">\n",
       "  <thead>\n",
       "    <tr style=\"text-align: right;\">\n",
       "      <th></th>\n",
       "      <th>text</th>\n",
       "      <th>headlines</th>\n",
       "      <th>cleaned_text</th>\n",
       "      <th>cleaned_headlines</th>\n",
       "    </tr>\n",
       "  </thead>\n",
       "  <tbody>\n",
       "    <tr>\n",
       "      <th>0</th>\n",
       "      <td>Saurav Kant, an alumnus of upGrad and IIIT-B's...</td>\n",
       "      <td>upGrad learner switches to career in ML &amp; Al w...</td>\n",
       "      <td>saurav kant alumnus upgrad iiit pg program mac...</td>\n",
       "      <td>upgrad learner switches to career in ml al wit...</td>\n",
       "    </tr>\n",
       "    <tr>\n",
       "      <th>1</th>\n",
       "      <td>Kunal Shah's credit card bill payment platform...</td>\n",
       "      <td>Delhi techie wins free food from Swiggy for on...</td>\n",
       "      <td>kunal shah credit card bill payment platform c...</td>\n",
       "      <td>delhi techie wins free food from swiggy for on...</td>\n",
       "    </tr>\n",
       "    <tr>\n",
       "      <th>2</th>\n",
       "      <td>New Zealand defeated India by 8 wickets in the...</td>\n",
       "      <td>New Zealand end Rohit Sharma-led India's 12-ma...</td>\n",
       "      <td>new zealand defeated india wickets fourth odi ...</td>\n",
       "      <td>new zealand end rohit sharma led india match w...</td>\n",
       "    </tr>\n",
       "    <tr>\n",
       "      <th>3</th>\n",
       "      <td>With Aegon Life iTerm Insurance plan, customer...</td>\n",
       "      <td>Aegon life iTerm insurance plan helps customer...</td>\n",
       "      <td>aegon life iterm insurance plan customers enjo...</td>\n",
       "      <td>aegon life iterm insurance plan helps customer...</td>\n",
       "    </tr>\n",
       "    <tr>\n",
       "      <th>4</th>\n",
       "      <td>Speaking about the sexual harassment allegatio...</td>\n",
       "      <td>Have known Hirani for yrs, what if MeToo claim...</td>\n",
       "      <td>speaking sexual harassment allegations rajkuma...</td>\n",
       "      <td>have known hirani for yrs what if metoo claims...</td>\n",
       "    </tr>\n",
       "  </tbody>\n",
       "</table>\n",
       "</div>"
      ],
      "text/plain": [
       "                                                text  \\\n",
       "0  Saurav Kant, an alumnus of upGrad and IIIT-B's...   \n",
       "1  Kunal Shah's credit card bill payment platform...   \n",
       "2  New Zealand defeated India by 8 wickets in the...   \n",
       "3  With Aegon Life iTerm Insurance plan, customer...   \n",
       "4  Speaking about the sexual harassment allegatio...   \n",
       "\n",
       "                                           headlines  \\\n",
       "0  upGrad learner switches to career in ML & Al w...   \n",
       "1  Delhi techie wins free food from Swiggy for on...   \n",
       "2  New Zealand end Rohit Sharma-led India's 12-ma...   \n",
       "3  Aegon life iTerm insurance plan helps customer...   \n",
       "4  Have known Hirani for yrs, what if MeToo claim...   \n",
       "\n",
       "                                        cleaned_text  \\\n",
       "0  saurav kant alumnus upgrad iiit pg program mac...   \n",
       "1  kunal shah credit card bill payment platform c...   \n",
       "2  new zealand defeated india wickets fourth odi ...   \n",
       "3  aegon life iterm insurance plan customers enjo...   \n",
       "4  speaking sexual harassment allegations rajkuma...   \n",
       "\n",
       "                                   cleaned_headlines  \n",
       "0  upgrad learner switches to career in ml al wit...  \n",
       "1  delhi techie wins free food from swiggy for on...  \n",
       "2  new zealand end rohit sharma led india match w...  \n",
       "3  aegon life iterm insurance plan helps customer...  \n",
       "4  have known hirani for yrs what if metoo claims...  "
      ]
     },
     "execution_count": 14,
     "metadata": {},
     "output_type": "execute_result"
    }
   ],
   "source": [
    "data.head()"
   ]
  },
  {
   "cell_type": "code",
   "execution_count": 15,
   "metadata": {
    "id": "PTQGG2XF010a"
   },
   "outputs": [],
   "source": [
    "data['text'] = data['cleaned_text']\n",
    "data['headlines'] = data['cleaned_headlines']\n"
   ]
  },
  {
   "cell_type": "code",
   "execution_count": null,
   "metadata": {
    "id": "luHNKwhi4Z2d"
   },
   "outputs": [],
   "source": []
  },
  {
   "cell_type": "code",
   "execution_count": 16,
   "metadata": {
    "colab": {
     "base_uri": "https://localhost:8080/"
    },
    "id": "YEyyBfFY1DC_",
    "outputId": "a0ecb17f-fb6d-48d2-f59c-421aba59dfa2"
   },
   "outputs": [
    {
     "name": "stdout",
     "output_type": "stream",
     "text": [
      "전체 샘플수 : 98360\n"
     ]
    }
   ],
   "source": [
    "# 빈 값을 Null 값으로 변환\n",
    "data.isnull().sum()\n",
    "\n",
    "# 전체 샘플 수 확인\n",
    "data.dropna(axis=0, inplace=True)\n",
    "print('전체 샘플수 :', (len(data)))"
   ]
  },
  {
   "cell_type": "markdown",
   "metadata": {
    "id": "wP6Up_Da1M0u"
   },
   "source": [
    "### 샘플의 최대 길이 정하기\n",
    "\n",
    "Text와 Summary의 최소, 최대, 평균 길이를 구하고 또한 길이 분포를 시각화"
   ]
  },
  {
   "cell_type": "code",
   "execution_count": 17,
   "metadata": {
    "colab": {
     "base_uri": "https://localhost:8080/",
     "height": 1000
    },
    "id": "soXgEAQI1E84",
    "outputId": "e12fc64c-3423-49d3-853e-bac690f0702a"
   },
   "outputs": [
    {
     "name": "stdout",
     "output_type": "stream",
     "text": [
      "텍스트의 최소 길이 : 1\n",
      "텍스트의 최대 길이 : 60\n",
      "텍스트의 평균 길이 : 35.09968483123221\n",
      "헤드라인의 최소 길이 : 1\n",
      "헤드라인의 최대 길이 : 16\n",
      "헤드라인의 평균 길이 : 9.299532330215534\n"
     ]
    },
    {
     "data": {
      "image/png": "[encoded data removed]",
      "text/plain": [
       "<Figure size 432x288 with 2 Axes>"
      ]
     },
     "metadata": {
      "needs_background": "light"
     },
     "output_type": "display_data"
    },
    {
     "data": {
      "image/png": "[encoded data removed]",
      "text/plain": [
       "<Figure size 432x288 with 1 Axes>"
      ]
     },
     "metadata": {
      "needs_background": "light"
     },
     "output_type": "display_data"
    },
    {
     "data": {
      "image/png": "[encoded data removed]",
      "text/plain": [
       "<Figure size 432x288 with 1 Axes>"
      ]
     },
     "metadata": {
      "needs_background": "light"
     },
     "output_type": "display_data"
    }
   ],
   "source": [
    "# 길이 분포 출력\n",
    "import matplotlib.pyplot as plt\n",
    "\n",
    "text_len = [len(s.split()) for s in data['text']]\n",
    "headlines_len = [len(s.split()) for s in data['headlines']]\n",
    "\n",
    "print('텍스트의 최소 길이 : {}'.format(np.min(text_len)))\n",
    "print('텍스트의 최대 길이 : {}'.format(np.max(text_len)))\n",
    "print('텍스트의 평균 길이 : {}'.format(np.mean(text_len)))\n",
    "print('헤드라인의 최소 길이 : {}'.format(np.min(headlines_len)))\n",
    "print('헤드라인의 최대 길이 : {}'.format(np.max(headlines_len)))\n",
    "print('헤드라인의 평균 길이 : {}'.format(np.mean(headlines_len)))\n",
    "\n",
    "plt.subplot(1,2,1)\n",
    "plt.boxplot(text_len)\n",
    "plt.title('Text')\n",
    "plt.subplot(1,2,2)\n",
    "plt.boxplot(headlines_len)\n",
    "plt.title('headlines')\n",
    "plt.tight_layout()\n",
    "plt.show()\n",
    "\n",
    "plt.title('Text')\n",
    "plt.hist(text_len, bins = 40)\n",
    "plt.xlabel('length of samples')\n",
    "plt.ylabel('number of samples')\n",
    "plt.show()\n",
    "\n",
    "plt.title('Headlines')\n",
    "plt.hist(headlines_len, bins = 40)\n",
    "plt.xlabel('length of samples')\n",
    "plt.ylabel('number of samples')\n",
    "plt.show()"
   ]
  },
  {
   "cell_type": "code",
   "execution_count": 18,
   "metadata": {
    "id": "UjuF6FHjysfc"
   },
   "outputs": [],
   "source": [
    "# 길이 임의 제한\n",
    "text_max_len = 50\n",
    "headlines_max_len = 16"
   ]
  },
  {
   "cell_type": "code",
   "execution_count": 21,
   "metadata": {
    "colab": {
     "base_uri": "https://localhost:8080/"
    },
    "id": "su3UuE4k5LCf",
    "outputId": "060b99d1-90d1-43c1-c0e5-d2b2d8fb978f"
   },
   "outputs": [
    {
     "name": "stdout",
     "output_type": "stream",
     "text": [
      "전체 샘플 중 길이가 50 이하인 샘플의 비율: 1.0\n",
      "전체 샘플 중 길이가 16 이하인 샘플의 비율: 1.0\n"
     ]
    }
   ],
   "source": [
    "# 훈련 데이터와 샘플의 길이를 입력하면, 데이터의 몇 %가 해당하는지 계산하는 함수\n",
    "\n",
    "def below_threshold_len(max_len, nested_list):\n",
    "  cnt = 0\n",
    "  for s in nested_list:\n",
    "    if(len(s.split()) <= max_len):\n",
    "        cnt = cnt + 1\n",
    "  print('전체 샘플 중 길이가 %s 이하인 샘플의 비율: %s'%(max_len, (cnt / len(nested_list))))\n",
    "\n",
    "\n",
    "below_threshold_len(text_max_len, data['text'])\n",
    "below_threshold_len(headlines_max_len,  data['headlines'])"
   ]
  },
  {
   "cell_type": "code",
   "execution_count": null,
   "metadata": {
    "id": "wOjwidJn5LBE"
   },
   "outputs": [],
   "source": []
  },
  {
   "cell_type": "code",
   "execution_count": 22,
   "metadata": {
    "colab": {
     "base_uri": "https://localhost:8080/"
    },
    "id": "apjxq5L4yU-S",
    "outputId": "aa855549-b746-4d87-d4cd-c7d51f2e4221"
   },
   "outputs": [
    {
     "name": "stdout",
     "output_type": "stream",
     "text": [
      "전체 샘플수 : 98346\n"
     ]
    }
   ],
   "source": [
    "#text와 headlines를 text_max_len과 summary_max_len의 길이보다 큰 샘플을 제외\n",
    "\n",
    "data = data[data['text'].apply(lambda x: len(x.split()) <= text_max_len)]\n",
    "data = data[data['headlines'].apply(lambda x: len(x.split()) <= headlines_max_len)]\n",
    "print('전체 샘플수 :', (len(data)))"
   ]
  },
  {
   "cell_type": "code",
   "execution_count": 24,
   "metadata": {
    "colab": {
     "base_uri": "https://localhost:8080/",
     "height": 293
    },
    "id": "bjd0OzoZ3GqH",
    "outputId": "7bcfa931-77c9-4a28-819e-48f420eac4bb"
   },
   "outputs": [
    {
     "data": {
      "text/html": [
       "<div>\n",
       "<style scoped>\n",
       "    .dataframe tbody tr th:only-of-type {\n",
       "        vertical-align: middle;\n",
       "    }\n",
       "\n",
       "    .dataframe tbody tr th {\n",
       "        vertical-align: top;\n",
       "    }\n",
       "\n",
       "    .dataframe thead th {\n",
       "        text-align: right;\n",
       "    }\n",
       "</style>\n",
       "<table border=\"1\" class=\"dataframe\">\n",
       "  <thead>\n",
       "    <tr style=\"text-align: right;\">\n",
       "      <th></th>\n",
       "      <th>text</th>\n",
       "      <th>headlines</th>\n",
       "      <th>cleaned_text</th>\n",
       "      <th>cleaned_headlines</th>\n",
       "      <th>decoder_input</th>\n",
       "      <th>decoder_target</th>\n",
       "    </tr>\n",
       "  </thead>\n",
       "  <tbody>\n",
       "    <tr>\n",
       "      <th>0</th>\n",
       "      <td>saurav kant alumnus upgrad iiit pg program mac...</td>\n",
       "      <td>upgrad learner switches to career in ml al wit...</td>\n",
       "      <td>saurav kant alumnus upgrad iiit pg program mac...</td>\n",
       "      <td>upgrad learner switches to career in ml al wit...</td>\n",
       "      <td>sostoken upgrad learner switches to career in ...</td>\n",
       "      <td>upgrad learner switches to career in ml al wit...</td>\n",
       "    </tr>\n",
       "    <tr>\n",
       "      <th>1</th>\n",
       "      <td>kunal shah credit card bill payment platform c...</td>\n",
       "      <td>delhi techie wins free food from swiggy for on...</td>\n",
       "      <td>kunal shah credit card bill payment platform c...</td>\n",
       "      <td>delhi techie wins free food from swiggy for on...</td>\n",
       "      <td>sostoken delhi techie wins free food from swig...</td>\n",
       "      <td>delhi techie wins free food from swiggy for on...</td>\n",
       "    </tr>\n",
       "    <tr>\n",
       "      <th>2</th>\n",
       "      <td>new zealand defeated india wickets fourth odi ...</td>\n",
       "      <td>new zealand end rohit sharma led india match w...</td>\n",
       "      <td>new zealand defeated india wickets fourth odi ...</td>\n",
       "      <td>new zealand end rohit sharma led india match w...</td>\n",
       "      <td>sostoken new zealand end rohit sharma led indi...</td>\n",
       "      <td>new zealand end rohit sharma led india match w...</td>\n",
       "    </tr>\n",
       "    <tr>\n",
       "      <th>3</th>\n",
       "      <td>aegon life iterm insurance plan customers enjo...</td>\n",
       "      <td>aegon life iterm insurance plan helps customer...</td>\n",
       "      <td>aegon life iterm insurance plan customers enjo...</td>\n",
       "      <td>aegon life iterm insurance plan helps customer...</td>\n",
       "      <td>sostoken aegon life iterm insurance plan helps...</td>\n",
       "      <td>aegon life iterm insurance plan helps customer...</td>\n",
       "    </tr>\n",
       "    <tr>\n",
       "      <th>4</th>\n",
       "      <td>speaking sexual harassment allegations rajkuma...</td>\n",
       "      <td>have known hirani for yrs what if metoo claims...</td>\n",
       "      <td>speaking sexual harassment allegations rajkuma...</td>\n",
       "      <td>have known hirani for yrs what if metoo claims...</td>\n",
       "      <td>sostoken have known hirani for yrs what if met...</td>\n",
       "      <td>have known hirani for yrs what if metoo claims...</td>\n",
       "    </tr>\n",
       "  </tbody>\n",
       "</table>\n",
       "</div>"
      ],
      "text/plain": [
       "                                                text  \\\n",
       "0  saurav kant alumnus upgrad iiit pg program mac...   \n",
       "1  kunal shah credit card bill payment platform c...   \n",
       "2  new zealand defeated india wickets fourth odi ...   \n",
       "3  aegon life iterm insurance plan customers enjo...   \n",
       "4  speaking sexual harassment allegations rajkuma...   \n",
       "\n",
       "                                           headlines  \\\n",
       "0  upgrad learner switches to career in ml al wit...   \n",
       "1  delhi techie wins free food from swiggy for on...   \n",
       "2  new zealand end rohit sharma led india match w...   \n",
       "3  aegon life iterm insurance plan helps customer...   \n",
       "4  have known hirani for yrs what if metoo claims...   \n",
       "\n",
       "                                        cleaned_text  \\\n",
       "0  saurav kant alumnus upgrad iiit pg program mac...   \n",
       "1  kunal shah credit card bill payment platform c...   \n",
       "2  new zealand defeated india wickets fourth odi ...   \n",
       "3  aegon life iterm insurance plan customers enjo...   \n",
       "4  speaking sexual harassment allegations rajkuma...   \n",
       "\n",
       "                                   cleaned_headlines  \\\n",
       "0  upgrad learner switches to career in ml al wit...   \n",
       "1  delhi techie wins free food from swiggy for on...   \n",
       "2  new zealand end rohit sharma led india match w...   \n",
       "3  aegon life iterm insurance plan helps customer...   \n",
       "4  have known hirani for yrs what if metoo claims...   \n",
       "\n",
       "                                       decoder_input  \\\n",
       "0  sostoken upgrad learner switches to career in ...   \n",
       "1  sostoken delhi techie wins free food from swig...   \n",
       "2  sostoken new zealand end rohit sharma led indi...   \n",
       "3  sostoken aegon life iterm insurance plan helps...   \n",
       "4  sostoken have known hirani for yrs what if met...   \n",
       "\n",
       "                                      decoder_target  \n",
       "0  upgrad learner switches to career in ml al wit...  \n",
       "1  delhi techie wins free food from swiggy for on...  \n",
       "2  new zealand end rohit sharma led india match w...  \n",
       "3  aegon life iterm insurance plan helps customer...  \n",
       "4  have known hirani for yrs what if metoo claims...  "
      ]
     },
     "execution_count": 24,
     "metadata": {},
     "output_type": "execute_result"
    }
   ],
   "source": [
    "# healine 데이터에는 시작 토큰과 종료 토큰을 추가한다.\n",
    "data['decoder_input'] = data['headlines'].apply(lambda x : 'sostoken '+ x)\n",
    "data['decoder_target'] = data['headlines'].apply(lambda x : x + ' eostoken')\n",
    "data.head()"
   ]
  },
  {
   "cell_type": "markdown",
   "metadata": {
    "id": "2LnDHuYt5mZV"
   },
   "source": [
    "훈련 데이터와 테스트 데이터를 분리\n",
    "우선, encoder_input과 크기와 형태가 같은 순서가 섞인 정수 시퀀스 생성"
   ]
  },
  {
   "cell_type": "code",
   "execution_count": 25,
   "metadata": {
    "colab": {
     "base_uri": "https://localhost:8080/"
    },
    "id": "I_KhcNcg5mEk",
    "outputId": "1f1235b9-a579-4407-c9c5-4d58cefbba24"
   },
   "outputs": [
    {
     "name": "stdout",
     "output_type": "stream",
     "text": [
      "[70366 38092 38399 ... 15331  8378  5020]\n"
     ]
    }
   ],
   "source": [
    "# 디코더의 입력과 레이블을 각각 다시 Numpy 타입으로 저장\n",
    "\n",
    "encoder_input = np.array(data['text']) # 인코더의 입력\n",
    "decoder_input = np.array(data['decoder_input']) # 디코더의 입력\n",
    "decoder_target = np.array(data['decoder_target']) # 디코더의 레이블\n",
    "\n",
    "indices = np.arange(encoder_input.shape[0])\n",
    "np.random.shuffle(indices)\n",
    "print(indices)"
   ]
  },
  {
   "cell_type": "code",
   "execution_count": 26,
   "metadata": {
    "colab": {
     "base_uri": "https://localhost:8080/"
    },
    "id": "Qe2yfarq6O9c",
    "outputId": "9c6eaf17-dcd4-4201-e8b0-3dfa77bd1105"
   },
   "outputs": [
    {
     "name": "stdout",
     "output_type": "stream",
     "text": [
      "테스트 데이터의 수 : 19669\n"
     ]
    }
   ],
   "source": [
    "#정수 시퀀스를 이용해 다시 데이터의 샘플 순서를 정의\n",
    "\n",
    "encoder_input = encoder_input[indices]\n",
    "decoder_input = decoder_input[indices]\n",
    "decoder_target = decoder_target[indices]\n",
    "\n",
    "\n",
    "n_of_val = int(len(encoder_input)*0.2)\n",
    "print('테스트 데이터의 수 :', n_of_val)"
   ]
  },
  {
   "cell_type": "markdown",
   "metadata": {
    "id": "YYUX7sjs6FA0"
   },
   "source": [
    "### 훈련 데이터와 테스트 데이터를 분리"
   ]
  },
  {
   "cell_type": "code",
   "execution_count": 35,
   "metadata": {
    "colab": {
     "base_uri": "https://localhost:8080/"
    },
    "id": "Us916-gt6E-a",
    "outputId": "c82200eb-4c71-40ce-d308-c650cb259d82"
   },
   "outputs": [
    {
     "name": "stdout",
     "output_type": "stream",
     "text": [
      "훈련 데이터의 개수 : 78677\n",
      "훈련 레이블의 개수 : 78677\n",
      "테스트 데이터의 개수 : 19669\n",
      "테스트 레이블의 개수 : 19669\n"
     ]
    }
   ],
   "source": [
    "encoder_input_train = encoder_input[:-n_of_val]\n",
    "decoder_input_train = decoder_input[:-n_of_val]\n",
    "decoder_target_train = decoder_target[:-n_of_val]\n",
    "\n",
    "encoder_input_test = encoder_input[-n_of_val:]\n",
    "decoder_input_test = decoder_input[-n_of_val:]\n",
    "decoder_target_test = decoder_target[-n_of_val:]\n",
    "\n",
    "print('훈련 데이터의 개수 :', len(encoder_input_train))\n",
    "print('훈련 레이블의 개수 :', len(decoder_input_train))\n",
    "print('테스트 데이터의 개수 :', len(encoder_input_test))\n",
    "print('테스트 레이블의 개수 :', len(decoder_input_test))"
   ]
  },
  {
   "cell_type": "markdown",
   "metadata": {
    "id": "MReHXa1h6E7P"
   },
   "source": [
    "단어 집합(vocabulary) 만들기 및 정수 인코딩\n",
    "이제 기계가 텍스트를 숫자로 처리할 수 있도록 훈련 데이터와 테스트 데이터의 단어들을 모두 정수로 바꿈"
   ]
  },
  {
   "cell_type": "code",
   "execution_count": 36,
   "metadata": {
    "colab": {
     "base_uri": "https://localhost:8080/"
    },
    "id": "UBni1BA66E4k",
    "outputId": "bf154fe9-28ed-46a1-f371-ee4638b5c7e7"
   },
   "outputs": [
    {
     "name": "stdout",
     "output_type": "stream",
     "text": [
      "=3\n"
     ]
    }
   ],
   "source": [
    "#Keras의 토크나이저를 사용\n",
    "src_tokenizer = Tokenizer() # 토크나이저 정의\n",
    "src_tokenizer.fit_on_texts(encoder_input_train) # 입력된 데이터로부터 단어 집합 생성\n",
    "print('=3')"
   ]
  },
  {
   "cell_type": "code",
   "execution_count": 37,
   "metadata": {
    "colab": {
     "base_uri": "https://localhost:8080/"
    },
    "id": "uqh48bjA6EvA",
    "outputId": "d6fbe6ee-fa12-41f6-e7b9-4cabc1fd3d5a"
   },
   "outputs": [
    {
     "name": "stdout",
     "output_type": "stream",
     "text": [
      "단어 집합(vocabulary)의 크기 : 69566\n",
      "등장 빈도가 6번 이하인 희귀 단어의 수: 47370\n",
      "단어 집합에서 희귀 단어를 제외시킬 경우의 단어 집합의 크기 22196\n",
      "단어 집합에서 희귀 단어의 비율: 68.09360894689934\n",
      "전체 등장 빈도에서 희귀 단어 등장 빈도 비율: 3.4783918629907014\n"
     ]
    }
   ],
   "source": [
    "# 등장 빈도수가 7회 미만인 단어들이 이 데이터에서 얼만큼의 비중을 차지하는지 확인\n",
    "\n",
    "threshold = 7\n",
    "total_cnt = len(src_tokenizer.word_index) # 단어의 수\n",
    "rare_cnt = 0 # 등장 빈도수가 threshold보다 작은 단어의 개수를 카운트\n",
    "total_freq = 0 # 훈련 데이터의 전체 단어 빈도수 총 합\n",
    "rare_freq = 0 # 등장 빈도수가 threshold보다 작은 단어의 등장 빈도수의 총 합\n",
    "\n",
    "# 단어와 빈도수의 쌍(pair)을 key와 value로 받는다.\n",
    "for key, value in src_tokenizer.word_counts.items():\n",
    "    total_freq = total_freq + value\n",
    "\n",
    "    # 단어의 등장 빈도수가 threshold보다 작으면\n",
    "    if(value < threshold):\n",
    "        rare_cnt = rare_cnt + 1\n",
    "        rare_freq = rare_freq + value\n",
    "\n",
    "print('단어 집합(vocabulary)의 크기 :', total_cnt)\n",
    "print('등장 빈도가 %s번 이하인 희귀 단어의 수: %s'%(threshold - 1, rare_cnt))\n",
    "print('단어 집합에서 희귀 단어를 제외시킬 경우의 단어 집합의 크기 %s'%(total_cnt - rare_cnt))\n",
    "print(\"단어 집합에서 희귀 단어의 비율:\", (rare_cnt / total_cnt)*100)\n",
    "print(\"전체 등장 빈도에서 희귀 단어 등장 빈도 비율:\", (rare_freq / total_freq)*100)"
   ]
  },
  {
   "cell_type": "code",
   "execution_count": 38,
   "metadata": {
    "id": "GqTS5UkY7AkD"
   },
   "outputs": [],
   "source": [
    "src_vocab = 11700\n",
    "src_tokenizer = Tokenizer(num_words=src_vocab) # 단어 집합의 크기를 11700으로 제한\n",
    "src_tokenizer.fit_on_texts(encoder_input_train) # 단어 집합 재생성"
   ]
  },
  {
   "cell_type": "code",
   "execution_count": 39,
   "metadata": {
    "colab": {
     "base_uri": "https://localhost:8080/"
    },
    "id": "dqavQ6Xv7piT",
    "outputId": "3a10c8a4-52b8-48c6-93cc-8d10022cf807"
   },
   "outputs": [
    {
     "name": "stdout",
     "output_type": "stream",
     "text": [
      "[[266, 1477, 1217, 928, 573, 3568, 3568, 10464, 1342, 60, 3102, 3987, 3987, 1558, 135, 4128, 3386, 2672, 203, 229, 149, 501, 2788, 5045, 355, 3618, 2491, 8403, 461, 6010, 2143], [9450, 353, 3, 13, 3794, 8404, 3846, 2471, 5091, 8990, 3257, 940, 19, 195, 1571, 9641, 2337, 9450, 2492, 82, 3196, 1637, 556, 3510, 19, 195, 8404, 34, 3846, 125, 44, 368, 5, 16], [5, 5406, 185, 633, 4747, 938, 50, 10696, 949, 972, 329, 1380, 248, 29, 3, 77, 5660, 64, 104, 1766, 3741, 10696, 329, 1961, 847, 15, 1053, 574]]\n"
     ]
    }
   ],
   "source": [
    "# 텍스트 시퀀스를 정수 시퀀스로 변환\n",
    "encoder_input_train = src_tokenizer.texts_to_sequences(encoder_input_train)\n",
    "encoder_input_test = src_tokenizer.texts_to_sequences(encoder_input_test)\n",
    "\n",
    "# 잘 진행되었는지 샘플 출력\n",
    "print(encoder_input_train[:3])"
   ]
  },
  {
   "cell_type": "code",
   "execution_count": 40,
   "metadata": {
    "id": "YrGoF3RB79fH"
   },
   "outputs": [],
   "source": [
    "tar_tokenizer = Tokenizer()\n",
    "tar_tokenizer.fit_on_texts(decoder_input_train)"
   ]
  },
  {
   "cell_type": "code",
   "execution_count": 41,
   "metadata": {
    "colab": {
     "base_uri": "https://localhost:8080/"
    },
    "id": "l6aKfx1G8BXC",
    "outputId": "99e98e39-50bb-4662-bbdd-2db82c4da78d"
   },
   "outputs": [
    {
     "name": "stdout",
     "output_type": "stream",
     "text": [
      "단어 집합(vocabulary)의 크기 : 30105\n",
      "등장 빈도가 5번 이하인 희귀 단어의 수: 19703\n",
      "단어 집합에서 희귀 단어를 제외시킬 경우의 단어 집합의 크기 10402\n",
      "단어 집합에서 희귀 단어의 비율: 65.44760006643415\n",
      "전체 등장 빈도에서 희귀 단어 등장 빈도 비율: 4.648947694403249\n"
     ]
    }
   ],
   "source": [
    "threshold = 6\n",
    "total_cnt = len(tar_tokenizer.word_index) # 단어의 수\n",
    "rare_cnt = 0 # 등장 빈도수가 threshold보다 작은 단어의 개수를 카운트\n",
    "total_freq = 0 # 훈련 데이터의 전체 단어 빈도수 총 합\n",
    "rare_freq = 0 # 등장 빈도수가 threshold보다 작은 단어의 등장 빈도수의 총 합\n",
    "\n",
    "# 단어와 빈도수의 쌍(pair)을 key와 value로 받는다.\n",
    "for key, value in tar_tokenizer.word_counts.items():\n",
    "    total_freq = total_freq + value\n",
    "\n",
    "    # 단어의 등장 빈도수가 threshold보다 작으면\n",
    "    if(value < threshold):\n",
    "        rare_cnt = rare_cnt + 1\n",
    "        rare_freq = rare_freq + value\n",
    "\n",
    "print('단어 집합(vocabulary)의 크기 :', total_cnt)\n",
    "print('등장 빈도가 %s번 이하인 희귀 단어의 수: %s'%(threshold - 1, rare_cnt))\n",
    "print('단어 집합에서 희귀 단어를 제외시킬 경우의 단어 집합의 크기 %s'%(total_cnt - rare_cnt))\n",
    "print(\"단어 집합에서 희귀 단어의 비율:\", (rare_cnt / total_cnt)*100)\n",
    "print(\"전체 등장 빈도에서 희귀 단어 등장 빈도 비율:\", (rare_freq / total_freq)*100)"
   ]
  },
  {
   "cell_type": "code",
   "execution_count": 42,
   "metadata": {
    "colab": {
     "base_uri": "https://localhost:8080/"
    },
    "id": "iPnvpoG18QlI",
    "outputId": "0ed67a9b-b364-4f5f-8b48-1ed8a9403e69"
   },
   "outputs": [
    {
     "name": "stdout",
     "output_type": "stream",
     "text": [
      "input\n",
      "input  [[1, 144, 79, 18, 1202, 6, 517], [1, 29, 228, 2447, 17, 1635], [1, 212, 278, 15, 1466, 240, 839], [1, 1652, 897, 464, 1347, 3046, 234], [1, 598, 2499, 6, 2312, 217, 4, 1390, 451]]\n",
      "target\n",
      "decoder  [[144, 79, 18, 1202, 6, 517, 2], [29, 228, 2447, 17, 1635, 2], [212, 278, 15, 1466, 240, 839, 2], [1652, 897, 464, 1347, 3046, 234, 2], [598, 2499, 6, 2312, 217, 4, 1390, 451, 2]]\n"
     ]
    }
   ],
   "source": [
    "tar_vocab = 4600\n",
    "tar_tokenizer = Tokenizer(num_words=tar_vocab)\n",
    "tar_tokenizer.fit_on_texts(decoder_input_train)\n",
    "tar_tokenizer.fit_on_texts(decoder_target_train)\n",
    "\n",
    "# 텍스트 시퀀스를 정수 시퀀스로 변환\n",
    "decoder_input_train = tar_tokenizer.texts_to_sequences(decoder_input_train)\n",
    "decoder_target_train = tar_tokenizer.texts_to_sequences(decoder_target_train)\n",
    "decoder_input_test = tar_tokenizer.texts_to_sequences(decoder_input_test)\n",
    "decoder_target_test = tar_tokenizer.texts_to_sequences(decoder_target_test)\n",
    "\n",
    "# 잘 변환되었는지 확인\n",
    "print('input')\n",
    "print('input ',decoder_input_train[:5])\n",
    "print('target')\n",
    "print('decoder ',decoder_target_train[:5])"
   ]
  },
  {
   "cell_type": "markdown",
   "metadata": {
    "id": "aLDqoRry8ZgN"
   },
   "source": [
    "##패딩하기"
   ]
  },
  {
   "cell_type": "code",
   "execution_count": 44,
   "metadata": {
    "id": "GfcHorzb8ZR6"
   },
   "outputs": [],
   "source": [
    "encoder_input_train = pad_sequences(encoder_input_train, maxlen=text_max_len, padding='post')\n",
    "encoder_input_test = pad_sequences(encoder_input_test, maxlen=text_max_len, padding='post')\n",
    "decoder_input_train = pad_sequences(decoder_input_train, maxlen=headlines_max_len, padding='post')\n",
    "decoder_target_train = pad_sequences(decoder_target_train, maxlen=headlines_max_len, padding='post')\n",
    "decoder_input_test = pad_sequences(decoder_input_test, maxlen=headlines_max_len, padding='post')\n",
    "decoder_target_test = pad_sequences(decoder_target_test, maxlen=headlines_max_len, padding='post')"
   ]
  },
  {
   "cell_type": "code",
   "execution_count": null,
   "metadata": {
    "id": "ZbTTof2Rp-AW"
   },
   "outputs": [],
   "source": []
  },
  {
   "cell_type": "markdown",
   "metadata": {
    "id": "zn5txkTFpx2W"
   },
   "source": [
    "\n",
    "## Step 3. 어텐션 메커니즘 사용하기 (추상적 요약)\n",
    "일반적인 seq2seq보다는 어텐션 메커니즘을 사용한 seq2seq를 사용하는 것이 더 나은 성능을 얻을 수 있어요. 실습 내용을 참고하여 어텐션 메커니즘을 사용한 seq2seq를 설계해 보세요.\n",
    "\n"
   ]
  },
  {
   "cell_type": "code",
   "execution_count": 45,
   "metadata": {
    "colab": {
     "base_uri": "https://localhost:8080/",
     "height": 689
    },
    "id": "UsPE6soZp-Oi",
    "outputId": "6865c265-8460-4f42-915a-3fffbd527b8a"
   },
   "outputs": [
    {
     "name": "stdout",
     "output_type": "stream",
     "text": [
      "Model: \"model\"\n",
      "__________________________________________________________________________________________________\n",
      "Layer (type)                    Output Shape         Param #     Connected to                     \n",
      "==================================================================================================\n",
      "input_1 (InputLayer)            [(None, 50)]         0                                            \n",
      "__________________________________________________________________________________________________\n",
      "embedding (Embedding)           (None, 50, 128)      1497600     input_1[0][0]                    \n",
      "__________________________________________________________________________________________________\n",
      "lstm (LSTM)                     [(None, 50, 256), (N 394240      embedding[0][0]                  \n",
      "__________________________________________________________________________________________________\n",
      "input_2 (InputLayer)            [(None, None)]       0                                            \n",
      "__________________________________________________________________________________________________\n",
      "lstm_1 (LSTM)                   [(None, 50, 256), (N 525312      lstm[0][0]                       \n",
      "__________________________________________________________________________________________________\n",
      "embedding_1 (Embedding)         (None, None, 128)    588800      input_2[0][0]                    \n",
      "__________________________________________________________________________________________________\n",
      "lstm_2 (LSTM)                   [(None, 50, 256), (N 525312      lstm_1[0][0]                     \n",
      "__________________________________________________________________________________________________\n",
      "lstm_3 (LSTM)                   [(None, None, 256),  394240      embedding_1[0][0]                \n",
      "                                                                 lstm_2[0][1]                     \n",
      "                                                                 lstm_2[0][2]                     \n",
      "__________________________________________________________________________________________________\n",
      "attention_layer (AdditiveAttent (None, None, 256)    256         lstm_3[0][0]                     \n",
      "                                                                 lstm_2[0][0]                     \n",
      "__________________________________________________________________________________________________\n",
      "concat_layer (Concatenate)      (None, None, 512)    0           lstm_3[0][0]                     \n",
      "                                                                 attention_layer[0][0]            \n",
      "__________________________________________________________________________________________________\n",
      "dense (Dense)                   (None, None, 4600)   2359800     concat_layer[0][0]               \n",
      "==================================================================================================\n",
      "Total params: 6,285,560\n",
      "Trainable params: 6,285,560\n",
      "Non-trainable params: 0\n",
      "__________________________________________________________________________________________________\n"
     ]
    }
   ],
   "source": [
    "from tensorflow.keras.layers import Input, LSTM, Embedding, Dense, Concatenate\n",
    "from tensorflow.keras.models import Model\n",
    "from tensorflow.keras.layers import AdditiveAttention\n",
    "\n",
    "# 파라미터 설정\n",
    "embedding_dim = 128\n",
    "hidden_size = 256\n",
    "text_max_len = 50\n",
    "summary_max_len = 8\n",
    "\n",
    "# 인코더\n",
    "encoder_inputs = Input(shape=(text_max_len,))\n",
    "# 인코더의 임베딩 층\n",
    "enc_emb = Embedding(src_vocab, embedding_dim)(encoder_inputs)\n",
    "\n",
    "# 인코더의 LSTM 1\n",
    "# encoder_lstm1 = LSTM(hidden_size, return_sequences=True, return_state=True ,dropout = 0.4, recurrent_dropout = 0.4)\n",
    "encoder_lstm1 = LSTM(hidden_size, return_sequences=True, return_state=True ,dropout = 0.4)\n",
    "encoder_output1, state_h1, state_c1 = encoder_lstm1(enc_emb)\n",
    "\n",
    "# 인코더의 LSTM 2\n",
    "encoder_lstm2 = LSTM(hidden_size, return_sequences=True, return_state=True, dropout=0.4)\n",
    "encoder_output2, state_h2, state_c2 = encoder_lstm2(encoder_output1)\n",
    "\n",
    "# 인코더의 LSTM 3\n",
    "encoder_lstm3 = LSTM(hidden_size, return_state=True, return_sequences=True, dropout=0.4)\n",
    "encoder_outputs, state_h, state_c= encoder_lstm3(encoder_output2)\n",
    "\n",
    "\n",
    "# 디코더 설계\n",
    "decoder_inputs = Input(shape=(None,))\n",
    "\n",
    "# 디코더의 임베딩 층\n",
    "dec_emb_layer = Embedding(tar_vocab, embedding_dim)\n",
    "dec_emb = dec_emb_layer(decoder_inputs)\n",
    "\n",
    "# 디코더의 LSTM\n",
    "# decoder_lstm = LSTM(hidden_size, return_sequences=True, return_state=True, dropout=0.4, recurrent_dropout=0.2)\n",
    "decoder_lstm = LSTM(hidden_size, return_sequences=True, return_state=True, dropout=0.4)\n",
    "decoder_outputs, _, _ = decoder_lstm(dec_emb, initial_state=[state_h, state_c])\n",
    "\n",
    "\n",
    "# 어텐션 층(어텐션 함수)\n",
    "attn_layer = AdditiveAttention(name='attention_layer')\n",
    "\n",
    "# 인코더와 디코더의 모든 time step의 hidden state를 어텐션 층에 전달하고 결과를 리턴\n",
    "attn_out = attn_layer([decoder_outputs, encoder_outputs])\n",
    "\n",
    "\n",
    "# 어텐션의 결과와 디코더의 hidden state들을 연결\n",
    "decoder_concat_input = Concatenate(axis=-1, name='concat_layer')([decoder_outputs, attn_out])\n",
    "\n",
    "# 디코더의 출력층\n",
    "decoder_softmax_layer = Dense(tar_vocab, activation='softmax')\n",
    "decoder_softmax_outputs = decoder_softmax_layer(decoder_concat_input)\n",
    "\n",
    "# 모델 정의\n",
    "model = Model([encoder_inputs, decoder_inputs], decoder_softmax_outputs)\n",
    "model.summary()\n",
    "\n",
    "\n"
   ]
  },
  {
   "cell_type": "code",
   "execution_count": 46,
   "metadata": {
    "colab": {
     "base_uri": "https://localhost:8080/"
    },
    "id": "5KEFfTV8p-MS",
    "outputId": "c7a1d19c-fdc4-4e52-b073-271e33cd718d"
   },
   "outputs": [
    {
     "name": "stdout",
     "output_type": "stream",
     "text": [
      "Epoch 1/50\n",
      "308/308 [==============================] - 36s 94ms/step - loss: 3.7100 - val_loss: 3.4042\n",
      "Epoch 2/50\n",
      "308/308 [==============================] - 28s 92ms/step - loss: 3.2564 - val_loss: 3.1405\n",
      "Epoch 3/50\n",
      "308/308 [==============================] - 29s 94ms/step - loss: 3.0234 - val_loss: 2.9275\n",
      "Epoch 4/50\n",
      "308/308 [==============================] - 30s 96ms/step - loss: 2.8336 - val_loss: 2.7851\n",
      "Epoch 5/50\n",
      "308/308 [==============================] - 30s 99ms/step - loss: 2.6891 - val_loss: 2.6893\n",
      "Epoch 6/50\n",
      "308/308 [==============================] - 31s 101ms/step - loss: 2.5745 - val_loss: 2.6105\n",
      "Epoch 7/50\n",
      "308/308 [==============================] - 31s 100ms/step - loss: 2.4794 - val_loss: 2.5529\n",
      "Epoch 8/50\n",
      "308/308 [==============================] - 31s 100ms/step - loss: 2.3980 - val_loss: 2.4994\n",
      "Epoch 9/50\n",
      "308/308 [==============================] - 31s 100ms/step - loss: 2.3270 - val_loss: 2.4658\n",
      "Epoch 10/50\n",
      "308/308 [==============================] - 31s 100ms/step - loss: 2.2644 - val_loss: 2.4278\n",
      "Epoch 11/50\n",
      "308/308 [==============================] - 31s 100ms/step - loss: 2.2082 - val_loss: 2.4028\n",
      "Epoch 12/50\n",
      "308/308 [==============================] - 31s 100ms/step - loss: 2.1572 - val_loss: 2.3805\n",
      "Epoch 13/50\n",
      "308/308 [==============================] - 31s 100ms/step - loss: 2.1111 - val_loss: 2.3621\n",
      "Epoch 14/50\n",
      "308/308 [==============================] - 31s 100ms/step - loss: 2.0682 - val_loss: 2.3486\n",
      "Epoch 15/50\n",
      "308/308 [==============================] - 31s 100ms/step - loss: 2.0283 - val_loss: 2.3391\n",
      "Epoch 16/50\n",
      "308/308 [==============================] - 31s 100ms/step - loss: 1.9922 - val_loss: 2.3321\n",
      "Epoch 17/50\n",
      "308/308 [==============================] - 31s 100ms/step - loss: 1.9581 - val_loss: 2.3244\n",
      "Epoch 18/50\n",
      "308/308 [==============================] - 31s 100ms/step - loss: 1.9262 - val_loss: 2.3155\n",
      "Epoch 19/50\n",
      "308/308 [==============================] - 31s 100ms/step - loss: 1.8969 - val_loss: 2.3080\n",
      "Epoch 20/50\n",
      "308/308 [==============================] - 31s 100ms/step - loss: 1.8678 - val_loss: 2.3071\n",
      "Epoch 21/50\n",
      "308/308 [==============================] - 31s 100ms/step - loss: 1.8407 - val_loss: 2.3053\n",
      "Epoch 22/50\n",
      "308/308 [==============================] - 31s 100ms/step - loss: 1.8151 - val_loss: 2.3016\n",
      "Epoch 23/50\n",
      "308/308 [==============================] - 31s 100ms/step - loss: 1.7913 - val_loss: 2.3007\n",
      "Epoch 24/50\n",
      "308/308 [==============================] - 31s 100ms/step - loss: 1.7681 - val_loss: 2.3048\n",
      "Epoch 25/50\n",
      "308/308 [==============================] - 31s 100ms/step - loss: 1.7467 - val_loss: 2.3048\n",
      "Epoch 00025: early stopping\n"
     ]
    }
   ],
   "source": [
    "# 학습\n",
    "model.compile(optimizer='rmsprop', loss='sparse_categorical_crossentropy')\n",
    "es = EarlyStopping(monitor='val_loss', patience=2, verbose=1)\n",
    "\n",
    "history = model.fit(x=[encoder_input_train, decoder_input_train], y=decoder_target_train, \\\n",
    "          validation_data=([encoder_input_test, decoder_input_test], decoder_target_test), \\\n",
    "          batch_size=256, callbacks=[es], epochs=50)\n",
    "\n"
   ]
  },
  {
   "cell_type": "code",
   "execution_count": 47,
   "metadata": {
    "id": "V1AD6maE_MD3"
   },
   "outputs": [
    {
     "data": {
      "image/png": "[encoded data removed]",
      "text/plain": [
       "<Figure size 432x288 with 1 Axes>"
      ]
     },
     "metadata": {
      "needs_background": "light"
     },
     "output_type": "display_data"
    },
    {
     "data": {
      "image/png": "[encoded data removed]",
      "text/plain": [
       "<Figure size 432x288 with 1 Axes>"
      ]
     },
     "metadata": {
      "needs_background": "light"
     },
     "output_type": "display_data"
    }
   ],
   "source": [
    "# 손실 시각화\n",
    "import matplotlib.pyplot as plt\n",
    "\n",
    "plt.plot(history.history['loss'], label='Train Loss')\n",
    "plt.plot(history.history['val_loss'], label='Validation Loss')\n",
    "plt.legend()\n",
    "plt.show()\n",
    "\n",
    "#시각화\n",
    "plt.plot(history.history['loss'], label='train')\n",
    "plt.plot(history.history['val_loss'], label='test')\n",
    "plt.legend()\n",
    "plt.show()"
   ]
  },
  {
   "cell_type": "markdown",
   "metadata": {
    "id": "o8adpIGg_AWd"
   },
   "source": []
  },
  {
   "cell_type": "markdown",
   "metadata": {
    "id": "TaMxOS6L_AZh"
   },
   "source": [
    "텍스트 데이터를 실제 데이터로 복원해야 하므로, 필요한 3개의 사전 준비"
   ]
  },
  {
   "cell_type": "code",
   "execution_count": 48,
   "metadata": {
    "id": "zwhavyLf-_lr"
   },
   "outputs": [],
   "source": [
    "src_index_to_word = src_tokenizer.index_word # 원문 단어 집합에서 정수 -> 단어를 얻음\n",
    "tar_word_to_index = tar_tokenizer.word_index # 요약 단어 집합에서 단어 -> 정수를 얻음\n",
    "tar_index_to_word = tar_tokenizer.index_word # 요약 단어 집합에서 정수 -> 단어를 얻음"
   ]
  },
  {
   "cell_type": "markdown",
   "metadata": {
    "id": "_3t2zpNW8tdt"
   },
   "source": [
    "정답 문장이 없는 인퍼런스 단계에서는 만들어야 할 문장의 길이만큼 디코더가 반복 구조로 동작해야 하기 때문에 부득이하게 인퍼런스를 위한 모델 설계를 별도 진행"
   ]
  },
  {
   "cell_type": "code",
   "execution_count": 49,
   "metadata": {
    "id": "seNKEM50_l45"
   },
   "outputs": [],
   "source": [
    "# 인코더 설계\n",
    "encoder_model = Model(inputs=encoder_inputs, outputs=[encoder_outputs, state_h, state_c])\n",
    "\n",
    "# 이전 시점의 상태들을 저장하는 텐서\n",
    "decoder_state_input_h = Input(shape=(hidden_size,))\n",
    "decoder_state_input_c = Input(shape=(hidden_size,))\n",
    "\n",
    "dec_emb2 = dec_emb_layer(decoder_inputs)\n",
    "\n",
    "# 문장의 다음 단어를 예측하기 위해서 초기 상태(initial_state)를 이전 시점의 상태로 사용. 이는 뒤의 함수 decode_sequence()에 구현\n",
    "# 훈련 과정에서와 달리 LSTM의 리턴하는 은닉 상태와 셀 상태인 state_h와 state_c를 버리지 않음.\n",
    "decoder_outputs2, state_h2, state_c2 = decoder_lstm(dec_emb2, initial_state=[decoder_state_input_h, decoder_state_input_c])\n"
   ]
  },
  {
   "cell_type": "markdown",
   "metadata": {
    "id": "t6dP3Ue0qShd"
   },
   "source": [
    "평가문항\n",
    "\n",
    "2. 텍스트 요약모델이 성공적으로 학습되었음을 확인하였다.\n",
    "\n",
    "상세기준\n",
    "\n",
    "모델 학습이 진행되면서 train loss와 validation loss가 감소하는 경향을 그래프를 통해 확인했으며, 실제 요약문에 있는 핵심 단어들이 요약 문장 안에 포함되었다."
   ]
  },
  {
   "cell_type": "code",
   "execution_count": 50,
   "metadata": {
    "id": "huMuR-3Ep_j9"
   },
   "outputs": [],
   "source": [
    "# 어텐션 함수\n",
    "decoder_hidden_state_input = Input(shape=(text_max_len, hidden_size))\n",
    "attn_out_inf = attn_layer([decoder_outputs2, decoder_hidden_state_input])\n",
    "decoder_inf_concat = Concatenate(axis=-1, name='concat')([decoder_outputs2, attn_out_inf])\n",
    "\n",
    "# 디코더의 출력층\n",
    "decoder_outputs2 = decoder_softmax_layer(decoder_inf_concat) \n",
    "\n",
    "# 최종 디코더 모델\n",
    "decoder_model = Model(\n",
    "    [decoder_inputs] + [decoder_hidden_state_input,decoder_state_input_h, decoder_state_input_c],\n",
    "    [decoder_outputs2] + [state_h2, state_c2])\n"
   ]
  },
  {
   "cell_type": "code",
   "execution_count": 51,
   "metadata": {
    "id": "xViWOo1lp_hh"
   },
   "outputs": [
    {
     "name": "stdout",
     "output_type": "stream",
     "text": [
      "=3\n"
     ]
    }
   ],
   "source": [
    "def decode_sequence(input_seq):\n",
    "    # 입력으로부터 인코더의 상태를 얻음\n",
    "    e_out, e_h, e_c = encoder_model.predict(input_seq)\n",
    "\n",
    "     # <SOS>에 해당하는 토큰 생성\n",
    "    target_seq = np.zeros((1,1))\n",
    "    target_seq[0, 0] = tar_word_to_index['sostoken']\n",
    "\n",
    "    stop_condition = False\n",
    "    decoded_sentence = ''\n",
    "    while not stop_condition: # stop_condition이 True가 될 때까지 루프 반복\n",
    "\n",
    "        output_tokens, h, c = decoder_model.predict([target_seq] + [e_out, e_h, e_c])\n",
    "        sampled_token_index = np.argmax(output_tokens[0, -1, :])\n",
    "        sampled_token = tar_index_to_word[sampled_token_index]\n",
    "\n",
    "        if (sampled_token!='eostoken'):\n",
    "            decoded_sentence += ' '+sampled_token\n",
    "\n",
    "        #  <eos>에 도달하거나 최대 길이를 넘으면 중단.\n",
    "        if (sampled_token == 'eostoken'  or len(decoded_sentence.split()) >= (summary_max_len-1)):\n",
    "            stop_condition = True\n",
    "\n",
    "        # 길이가 1인 타겟 시퀀스를 업데이트\n",
    "        target_seq = np.zeros((1,1))\n",
    "        target_seq[0, 0] = sampled_token_index\n",
    "\n",
    "        # 상태를 업데이트 합니다.\n",
    "        e_h, e_c = h, c\n",
    "\n",
    "    return decoded_sentence\n",
    "print('=3')"
   ]
  },
  {
   "cell_type": "code",
   "execution_count": 52,
   "metadata": {
    "id": "e6JtZWqrp_fh"
   },
   "outputs": [],
   "source": [
    "# 원문의 정수 시퀀스를 텍스트 시퀀스로 변환\n",
    "def seq2text(input_seq):\n",
    "    temp=''\n",
    "    for i in input_seq:\n",
    "        if (i!=0):\n",
    "            temp = temp + src_index_to_word[i]+' '\n",
    "    return temp\n",
    "\n",
    "# 요약문의 정수 시퀀스를 텍스트 시퀀스로 변환\n",
    "\n",
    "def seq2summary(input_seq):\n",
    "    temp=''\n",
    "    for i in input_seq:\n",
    "        if ((i!=0 and i!=tar_word_to_index['sostoken']) and i!=tar_word_to_index['eostoken']):\n",
    "            temp = temp + tar_index_to_word[i] + ' '\n",
    "    return temp"
   ]
  },
  {
   "cell_type": "code",
   "execution_count": null,
   "metadata": {
    "id": "8CB5VAukp_aG"
   },
   "outputs": [],
   "source": []
  },
  {
   "cell_type": "code",
   "execution_count": null,
   "metadata": {
    "id": "OLxijYUOp_Ee"
   },
   "outputs": [],
   "source": []
  },
  {
   "cell_type": "markdown",
   "metadata": {
    "id": "I31QBeyipxyd"
   },
   "source": [
    "## Step 4. 실제 결과와 요약문 비교하기 (추상적 요약)\n",
    "원래의 요약문(headlines 열)과 학습을 통해 얻은 추상적 요약의 결과를 비교해 보세요.\n",
    "\n"
   ]
  },
  {
   "cell_type": "markdown",
   "metadata": {
    "id": "Vrzm7yf7qcfT"
   },
   "source": [
    "평가문항\n",
    "\n",
    " Extractive 요약을 시도해 보고 Abstractive 요약 결과과 함께 비교해 보았다.\n",
    "\n",
    " 상세기준\n",
    "\n",
    " 두 요약 결과를 문법완성도 측면과 핵심단어 포함 측면으로 나누어 비교하고 분석 결과를 표로 정리하여 제시하였다."
   ]
  },
  {
   "cell_type": "code",
   "execution_count": 53,
   "metadata": {
    "id": "d_Pxg_wVp_c1"
   },
   "outputs": [
    {
     "name": "stdout",
     "output_type": "stream",
     "text": [
      "원문 : part viral year challenge filmmaker karan johar took instagram share two pictures one taken decade high hair still filmmaker wrote caption hope feeling karan added \n",
      "실제 요약 : still karan shares year challenge pic \n",
      "예측 요약 :  am not met johar on pic with\n",
      "\n",
      "\n",
      "원문 : uttar pradesh provincial armed authorities planned award personnel sport big additional director general kumar singh said personnel allowance maintaining increased month added boost one personality increases confidence policeman \n",
      "실제 요약 : uttar pradesh plans to award policemen with big \n",
      "예측 요약 :  up govt to give up to kin\n",
      "\n",
      "\n",
      "원문 : former us president barack obama visiting indonesia family visited bali set meet indonesian president obama six moved jakarta mother married indonesian returned official visit president michelle time brought daughters well \n",
      "실제 요약 : obama returns to indonesia for family \n",
      "예측 요약 :  obama and obama to visit us\n",
      "\n",
      "\n",
      "원문 : prime minister narendra modi addressed world economic forum switzerland davos congress president rahul gandhi tuesday asked explain economic inequality india audience gandhi cited survey international rights group claimed india population accounted nation wealth \n",
      "실제 요약 : tell why indians get of its wealth rahul to pm \n",
      "예측 요약 :  pm modi trust of rahul gandhi on\n",
      "\n",
      "\n",
      "원문 : indian spinner ravichandran ashwin seen undergoing solo indoor bowling session rest indian team preferred take day ahead sydney test ashwin suffered side strain first test win adelaide accompanied indian team patrick training session \n",
      "실제 요약 : ashwin practice session ahead of test \n",
      "예측 요약 :  ashwin once helped me out of england\n",
      "\n",
      "\n",
      "원문 : law minister ravi shankar prasad thursday introduced bill instant triple talaq lok sabha proposed law instant triple talaq form including electronic means would illegal attract three year jail term fine would also allow wife seek allowance children \n",
      "실제 요약 : bill to triple talaq introduced in parliament \n",
      "예측 요약 :  union minister passes bill to triple talaq\n",
      "\n",
      "\n",
      "원문 : civil services topper ias officer shah wednesday announced resignation civil services protest killings kashmir absence credible political initiative union government decided resign ias kashmiri lives matter tweeted topper added address press conference friday \n",
      "실제 요약 : st ias topper shah resigns to protest kashmir killings \n",
      "예측 요약 :  ias officer appointed as new chief\n",
      "\n",
      "\n",
      "원문 : reacting anti romeo squads formed uttar pradesh senior congress leader digvijaya singh saturday asked online troll abuse opposing task force tweeted notably cm yogi adityanath directed officials lay clear guidelines anti romeo squads \n",
      "실제 요약 : what about online who troll abuse asks congress \n",
      "예측 요약 :  digvijaya singh apologises for remarks on\n",
      "\n",
      "\n",
      "원문 : twenty time grand slam champion roger federer reached australian open third round th straight year two time defending australian open champion federer defeated dan evans united kingdom scoreline two hours minutes wednesday reach third round year old swiss australian open six times \n",
      "실제 요약 : federer reaches australian open third round for th straight year \n",
      "예측 요약 :  djokovic wins th australian open final th\n",
      "\n",
      "\n",
      "원문 : video showing woman police officer co thakur handling mob bjp workers gone viral bjp workers protesting arrest worker allegedly misbehaved police caught without vehicle registration papers please get written orders cm police right check vehicles said thakur \n",
      "실제 요약 : woman police officer in up bjp workers mob \n",
      "예측 요약 :  video bjp mla booked for stealing bjp\n",
      "\n",
      "\n",
      "원문 : us based scientists led india ritesh agarwal created multi layered images made using ultra thin surfaces embedded gold upon images different layers formed one time depending length scientists said technology could used vr led displays \n",
      "실제 요약 : scientists create that changes images on \n",
      "예측 요약 :  scientists make world first artificial intelligence\n",
      "\n",
      "\n",
      "원문 : mumbai kochi air india flight carrying passengers forced abort takeoff last minute following technical problem saturday air india engineers declared aircraft unfit flying two hours flight scheduled passengers another flight departed \n",
      "실제 요약 : air india flight declared to fly \n",
      "예측 요약 :  air india flight to be forced to\n",
      "\n",
      "\n",
      "원문 : singer sona mohapatra criticised sonu nigam backing anu malik amid sexual harassment allegations questioning proof sona tweeted much sympathy millionaire losing work much privileged family tortured wrote another tweet multiple women men malik abusive behaviour \n",
      "실제 요약 : for millionaire sona to nigam on over metoo \n",
      "예측 요약 :  sona slams sona for sona sona\n",
      "\n",
      "\n",
      "원문 : kylie jenner featured time magazine list influential people internet singer rihanna rapper kanye west us president donald trump also featured list time looking global impact social media overall ability drive news wrote website \n",
      "실제 요약 : kylie among time most people on the internet \n",
      "예측 요약 :  kendall shares list of magazine cover of\n",
      "\n",
      "\n",
      "원문 : accusing bjp attempting congress jd government karnataka chief minister hd kumaraswamy friday said operation yesterday night also congress legislator asking send gift stating mla declined offer kumaraswamy claimed making mlas commodities sale addiction state bjp chief bs yeddyurappa \n",
      "실제 요약 : bjp called congress mla offered him gift karnataka cm \n",
      "예측 요약 :  congress trying to cong karnataka karnataka cm\n",
      "\n",
      "\n",
      "원문 : central pollution control board imposed fine crore three oil companies failure install anti pollution recovery systems fuel stations delhi three companies indian oil bharat petroleum hindustan petroleum recovery system displaced vehicle fuel tank filling petrol diesel \n",
      "실제 요약 : fines oil firms for not anti pollution devices \n",
      "예측 요약 :  delhi govt to pay cr to ban\n",
      "\n",
      "\n",
      "원문 : indian railways decided build km wall along delhi mumbai route order restrict human cattle interference officials said according official move approved railway board expected help railways achieve time performance reduce number accidents \n",
      "실제 요약 : railways to build km wall along delhi mumbai route \n",
      "예측 요약 :  railways to train in mumbai\n",
      "\n",
      "\n",
      "원문 : uttar pradesh chief minister yogi adityanath deputy keshav prasad maurya prominent leaders visit bihar showcase achievements prime minister narendra modi government completion three years however date visit finalised yet leaders including yogi adityanath bihar bjp leader sushil kumar modi said \n",
      "실제 요약 : up cm yogi to modi govt in bihar \n",
      "예측 요약 :  up cm yogi orders pm modi in\n",
      "\n",
      "\n",
      "원문 : spiritual leader bapu sparked row ram katha around sex workers mumbai ayodhya sex workers personally invited religious hindu religious leaders raised objections gathering sex workers saying bapu trying make ayodhya \n",
      "실제 요약 : leader invites sex workers to ayodhya sparks row \n",
      "예측 요약 :  karni sena threatens to pay sex at\n",
      "\n",
      "\n",
      "원문 : year old japanese man recognised world oldest living man guinness world records conferred title francisco spain died february aged around people aged japan according government data released last year \n",
      "실제 요약 : japanese man aged named world oldest living man \n",
      "예측 요약 :  yr old becomes oldest man in world\n",
      "\n",
      "\n",
      "원문 : french first lady macron aides filed legal complaint identity fraud used name seek vip treatments like best luxury hotels however one ever went hotels claim services investigation underway since clear attempt damage reputation per aide \n",
      "실제 요약 : identity thieves use french first lady name to seek \n",
      "예측 요약 :  ex world champ charged with fraud at\n",
      "\n",
      "\n",
      "원문 : iranian president hassan rouhani saturday gifted animated version copy mahabharata prime minister narendra modi ministry external affairs spokesperson described warm gesture tweet iranian president three day visit india \n",
      "실제 요약 : iran president gifts mahabharata to pm modi \n",
      "예측 요약 :  iran prez tweets about pm modi\n",
      "\n",
      "\n",
      "원문 : sushant singh rajput donated crore fan request help victims kerala floods shah rukh khan foundation donated lakh amitabh bachchan donated lakh per reports malayalam actor rajeev pillai postponed marriage help relief work rang de actor siddharth started people take \n",
      "실제 요약 : how are to kerala floods relief \n",
      "예측 요약 :  sushant donates cr to kerala flood victims\n",
      "\n",
      "\n",
      "원문 : actor ranbir kapoor talking relationship katrina kaif said needs positive influence life continue added nothing like talking showing ranbir said really enjoys creative partnership \n",
      "실제 요약 : need katrina in my life she is positive influence ranbir \n",
      "예측 요약 :  ranbir is not ranbir on being ranbir\n",
      "\n",
      "\n",
      "원문 : least nine people died injured private bus fell gorge himachal pradesh sunday reportedly bus driven high speed fell driver lost control vehicle injured treated medical college police official said \n",
      "실제 요약 : dead injured after bus falls into gorge in himachal \n",
      "예측 요약 :  dead injured after bus falls into gorge\n",
      "\n",
      "\n",
      "원문 : delhi court monday acquitted man accused raping year old doctor pretext marriage saying woman enough understand happening court declared sexual relationship consensual taking account woman already undergone abortion got pregnant despite knowing health risks \n",
      "실제 요약 : court man of rape charges says woman enough \n",
      "예측 요약 :  delhi court allows woman to rape victim\n",
      "\n",
      "\n",
      "원문 : talking entrepreneurship makemytrip ceo deep kalra recent event said india still takes long time build business adding people tend panic early said tell entrepreneurs look back first years kalra said conviction one important things \n",
      "실제 요약 : takes long time to build business in india ceo \n",
      "예측 요약 :  we have to be ready for india\n",
      "\n",
      "\n",
      "원문 : us president donald trump campaign could russia team foreign government president son law senior adviser jared kushner claimed notably kushner acknowledged four meetings russians trump presidential bid insisted nothing hide \n",
      "실제 요약 : trump campaign was for any \n",
      "예측 요약 :  trump son in law russia\n",
      "\n",
      "\n",
      "원문 : india pacer jasprit bumrah picked career best bowling figures australia melbourne test friday ex cricketer virender sehwag tweeted australia ke liye pain jasprit bumrah years biggest gain bumrah made test debut january year taken test wickets far indian bowler debut year \n",
      "실제 요약 : australia ke pain bumrah this year biggest gain sehwag \n",
      "예측 요약 :  bumrah jadeja sehwag sehwag on his th\n",
      "\n",
      "\n",
      "원문 : us president donald trump fired fbi director james comey immediate effect tuesday according officials comey fired handling hillary clinton email investigation however trump opponents claim comey fired leading fbi investigation trump team ties russia \n",
      "실제 요약 : us president donald trump fires fbi director james \n",
      "예측 요약 :  trump aide resignation over reports of trump\n",
      "\n",
      "\n",
      "원문 : talking planned meeting north korean leader kim jong un us president donald trump said world big favour let us see goes think going fine earlier trump said walk talks two expected meet may early june \n",
      "실제 요약 : we will be doing world big favour trump on kim jong un meet \n",
      "예측 요약 :  trump will be very much than korea\n",
      "\n",
      "\n",
      "원문 : berkshire hathaway vice chairman charlie speaking company annual meeting said firm chairman billionaire warren buffett version mahatma gandhi said according berkshire one big advantage lot people trying brilliant trying stay \n",
      "실제 요약 : buffett version of mahatma gandhi business partner \n",
      "예측 요약 :  would not be buffett as chairman\n",
      "\n",
      "\n",
      "원문 : sonu nigam denying report asked kamaal khan tweet support tweeted departed mother know personally report claimed sonu wanted support azaan row meanwhile also denied report slammed news website false reporting \n",
      "실제 요약 : on my mother did not ask for favour sonu \n",
      "예측 요약 :  sonu nigam sonu on sonu nigam allegations\n",
      "\n",
      "\n",
      "원문 : ranveer singh took social media share picture amitabh bachchan occasion th birthday today wrote happy amitabh bachchan day one iconic dynamic personalities ever met tweeted sonam kapoor sourav ganguly wrote happy birthday superstar \n",
      "실제 요약 : happy amitabh bachchan day ranveer on big th birthday \n",
      "예측 요약 :  ranveer wishes on th birthday anniversary\n",
      "\n",
      "\n",
      "원문 : taking inspiration amul girl group artists gujarat created boy part social media campaign gujarat assembly elections campaign posters use including vote hai hai artists said boy campaign rahul gandhi \n",
      "실제 요약 : make amul girl inspired for guj cong campaign \n",
      "예측 요약 :  instagram poster of amul for swachh bharat\n",
      "\n",
      "\n",
      "원문 : railway board passed proposal create database contract workers engaged providing services cleaning training aimed tracking violation labour laws ensuring transparent system workers personal details police verification medical insurance shift log attendance data \n",
      "실제 요약 : railways to create employee to check violations \n",
      "예측 요약 :  railways to provide to employees\n",
      "\n",
      "\n",
      "원문 : year old man arrested telangana allegedly stealing police vehicle meet sick wife told driver present car asked bring police station realised mistake inspector praveen kumar returned parking area \n",
      "실제 요약 : telangana man steals police vehicle to meet sick wife \n",
      "예측 요약 :  man arrested for stealing wife in bengaluru\n",
      "\n",
      "\n",
      "원문 : eleven state owned banks reserve bank india prompt action framework reported net loss crore july september quarter losses incurred mainly due increased provisions bad loans banks restricted lending improve capital reduce bad debt become profitable \n",
      "실제 요약 : banks under action report cr losses \n",
      "예측 요약 :  banks crore from banks to crore\n",
      "\n",
      "\n",
      "원문 : bollywood celebrities including aamir khan shah rukh khan aishwarya rai deepika padukone katrina kaif ranbir kapoor attended karan johar th birthday celebrations thursday alia bhatt sidharth malhotra rumoured dating also attended party shah rukh khan son saif ali khan daughter sara ali khan sridevi daughter jhanvi kapoor also spotted \n",
      "실제 요약 : aamir srk aish deepika katrina attend johar birthday \n",
      "예측 요약 :  srk host bollywood attend attend mumbai attend\n",
      "\n",
      "\n",
      "원문 : german integration minister said three quarters refugees country still unemployed five years adding germany faces challenges enormous migrant population said top priority ensure refugees access training acquire skills needed advanced industrial economy \n",
      "실제 요약 : most refugees to remain for years german minister \n",
      "예측 요약 :  migrants may be allowed to end un\n",
      "\n",
      "\n",
      "원문 : news reports claimed posters showing map india without jammu kashmir displayed aligarh muslim university bjp mp satish kumar gautam wrote letter amu vice chancellor subject amu run taliban ideology letter said nation aware anti national anti government elements university \n",
      "실제 요약 : amu taliban bjp mp on india map \n",
      "예측 요약 :  twitter users slam for muslim soldiers on\n",
      "\n",
      "\n",
      "원문 : virat kohli said players work skills financial security ipl provides would honest sport cannot say prepare four overs make money right intent added way get things people away quickly said \n",
      "실제 요약 : players should not work on ipl for financial security kohli \n",
      "예측 요약 :  will not get more than kohli\n",
      "\n",
      "\n",
      "원문 : living absolute poverty almost last decade country went record long unable purchase necessary goods services reached million last year almost million absolute poverty reportedly increased among younger people reaching year age group \n",
      "실제 요약 : italy poor almost triple in \n",
      "예측 요약 :  in pictures of the year\n",
      "\n",
      "\n",
      "원문 : bjp leader sushil modi tuesday said proof bihar deputy cm tejashwi yadav acquired least benami properties growing beard comes yadav earlier denied corruption charges claiming even alleged land hotels deals took place \n",
      "실제 요약 : tejashwi owned assets after growing bjp \n",
      "예측 요약 :  bjp leader cr in bihar govt scam\n",
      "\n",
      "\n",
      "원문 : chairman sushil chandra monday urged industries misuse provisions laws evade taxes said effective tax rate big companies already quite good due various said industries act salary earning person help build tax compliant society \n",
      "실제 요약 : do not misuse laws tax rates already good \n",
      "예측 요약 :  tax income tax against tax income tax\n",
      "\n",
      "\n",
      "원문 : gujarat education minister written congratulatory message yoga ashram run rape convict asaram organisation observing february congress termed letter unfortunate saying shows nexus bjp godman clarified done sent best wishes \n",
      "실제 요약 : minister praises rape convict asaram over \n",
      "예측 요약 :  no of ram temple to be renamed\n",
      "\n",
      "\n",
      "원문 : least military personnel including four officers eight non commissioned officers killed saudi military helicopter crashed yemen province according reports cause crash yet established notably saudi led coalition carrying air strikes houthi rebels request yemeni government forces since \n",
      "실제 요약 : saudi military aircraft crashes over yemen killed \n",
      "예측 요약 :  killed injured in saudi arabia crash\n",
      "\n",
      "\n",
      "원문 : auto industry body suggested reduction gst electric vehicles besides one time income tax vehicle price promote also suggested exempted road tax toll charges added electric two wheelers passenger vehicles used personal purposes exempt parking charges \n",
      "실제 요약 : industry body proposes gst to promote \n",
      "예측 요약 :  car to charge cars to be from\n",
      "\n",
      "\n",
      "원문 : aishwarya rai bachchan former international manager comment leading magazine article wrote producer harvey weinstein tried hard get aishwarya alone added acted like big pig asked leave meeting numerous times declined comes various actresses alleged sexually harassed harvey \n",
      "실제 요약 : weinstein tried hard to get aishwarya alone says her agent \n",
      "예측 요약 :  slams farhan for her on her remarks\n",
      "\n",
      "\n",
      "원문 : former pakistan chief justice mulk monday appointed interim prime minister country general elections held july chosen name basis merit leader opposition shah said decision comes ahead current government parliament thursday \n",
      "실제 요약 : pakistan names former chief justice as pm \n",
      "예측 요약 :  pak pm imran khan quits as prime\n",
      "\n",
      "\n"
     ]
    }
   ],
   "source": [
    "for i in range(50, 100):\n",
    "    print(\"원문 :\", seq2text(encoder_input_test[i]))\n",
    "    print(\"실제 요약 :\", seq2summary(decoder_input_test[i]))\n",
    "    print(\"예측 요약 :\", decode_sequence(encoder_input_test[i].reshape(1, text_max_len)))\n",
    "    print(\"\\n\")"
   ]
  },
  {
   "cell_type": "markdown",
   "metadata": {
    "id": "i9ig5MHbqcKW"
   },
   "source": [
    "실제 헤드라인과 비교하여 원문의 단어들은 포함 되엇으나, 문법적으로나 의미적으로 다른 부분이 있음"
   ]
  },
  {
   "cell_type": "markdown",
   "metadata": {
    "id": "3XT5JzF-qAA7"
   },
   "source": []
  },
  {
   "cell_type": "markdown",
   "metadata": {
    "id": "lrxmr10opxsw"
   },
   "source": [
    "## Step 5. Summa을 이용해서 추출적 요약해보기\n",
    "추상적 요약은 추출적 요약과는 달리 문장의 표현력을 다양하게 가져갈 수 있지만, 추출적 요약에 비해서 난이도가 높아요. 반대로 말하면 추출적 요약은 추상적 요약에 비해 난이도가 낮고 기존 문장에서 문장을 꺼내오는 것이므로 잘못된 요약이 나올 가능성이 낮아요.\n",
    "\n",
    "Summa의 summarize를 사용하여 추출적 요약을 해보세요"
   ]
  },
  {
   "cell_type": "markdown",
   "metadata": {
    "id": "I-Q8OltgpxYI"
   },
   "source": []
  },
  {
   "cell_type": "code",
   "execution_count": 54,
   "metadata": {
    "id": "Q-J4Tf6yqBxj"
   },
   "outputs": [
    {
     "name": "stdout",
     "output_type": "stream",
     "text": [
      "Requirement already satisfied: summa in /opt/conda/lib/python3.9/site-packages (1.2.0)\n",
      "Requirement already satisfied: scipy>=0.19 in /opt/conda/lib/python3.9/site-packages (from summa) (1.7.1)\n",
      "Requirement already satisfied: numpy<1.23.0,>=1.16.5 in /opt/conda/lib/python3.9/site-packages (from scipy>=0.19->summa) (1.21.4)\n",
      "\u001b[33mWARNING: Running pip as the 'root' user can result in broken permissions and conflicting behaviour with the system package manager. It is recommended to use a virtual environment instead: https://pip.pypa.io/warnings/venv\u001b[0m\n",
      "Note: you may need to restart the kernel to use updated packages.\n"
     ]
    }
   ],
   "source": [
    "pip install summa"
   ]
  },
  {
   "cell_type": "code",
   "execution_count": 60,
   "metadata": {
    "id": "bjGPmSqyqBvL"
   },
   "outputs": [],
   "source": [
    "import requests\n",
    "from summa.summarizer import summarize"
   ]
  },
  {
   "cell_type": "code",
   "execution_count": 61,
   "metadata": {},
   "outputs": [],
   "source": [
    "# 추출적 요약 예시\n",
    "text1 = data['text'][0]"
   ]
  },
  {
   "cell_type": "code",
   "execution_count": 63,
   "metadata": {},
   "outputs": [
    {
     "data": {
      "text/plain": [
       "'saurav kant alumnus upgrad iiit pg program machine learning artificial intelligence sr systems engineer infosys almost years work experience program upgrad degree career support helped transition data scientist tech mahindra salary hike upgrad online power learning powered lakh careers'"
      ]
     },
     "execution_count": 63,
     "metadata": {},
     "output_type": "execute_result"
    }
   ],
   "source": [
    "text1"
   ]
  },
  {
   "cell_type": "code",
   "execution_count": 62,
   "metadata": {
    "id": "Bv8Nd7ImqBss"
   },
   "outputs": [
    {
     "name": "stdout",
     "output_type": "stream",
     "text": [
      "Summary:\n",
      "\n"
     ]
    }
   ],
   "source": [
    "print('Summary:')\n",
    "print(summarize(text1, ratio=0.005))"
   ]
  },
  {
   "cell_type": "code",
   "execution_count": 64,
   "metadata": {
    "id": "UcXuxg_IqBqH"
   },
   "outputs": [
    {
     "name": "stdout",
     "output_type": "stream",
     "text": [
      "Summary:\n",
      "[]\n"
     ]
    }
   ],
   "source": [
    "print('Summary:')\n",
    "print(summarize(text1, ratio=0.005, split=True))"
   ]
  },
  {
   "cell_type": "code",
   "execution_count": 65,
   "metadata": {
    "id": "uJ3j8Uo6qBoA"
   },
   "outputs": [
    {
     "name": "stdout",
     "output_type": "stream",
     "text": [
      "Summary:\n",
      "\n"
     ]
    }
   ],
   "source": [
    "print('Summary:')\n",
    "print(summarize(text1, words=50))"
   ]
  },
  {
   "cell_type": "code",
   "execution_count": 66,
   "metadata": {
    "id": "DrYPj0v0qBlr"
   },
   "outputs": [
    {
     "name": "stdout",
     "output_type": "stream",
     "text": [
      "                                                text  \\\n",
      "0  saurav kant alumnus upgrad iiit pg program mac...   \n",
      "1  kunal shah credit card bill payment platform c...   \n",
      "2  new zealand defeated india wickets fourth odi ...   \n",
      "3  aegon life iterm insurance plan customers enjo...   \n",
      "4  speaking sexual harassment allegations rajkuma...   \n",
      "\n",
      "                                           headlines generated_summary  \n",
      "0  upgrad learner switches to career in ml al wit...                    \n",
      "1  delhi techie wins free food from swiggy for on...                    \n",
      "2  new zealand end rohit sharma led india match w...                    \n",
      "3  aegon life iterm insurance plan helps customer...                    \n",
      "4  have known hirani for yrs what if metoo claims...                    \n"
     ]
    }
   ],
   "source": [
    "\n",
    "# 요약을 수행하는 함수 정의\n",
    "def generate_summary(text, ratio=0.1):\n",
    "    try:\n",
    "        # summa로 요약 생성\n",
    "        return summarize(str(text), ratio=ratio)\n",
    "    except ValueError:  # 빈 텍스트 처리\n",
    "        return \"Summary not generated.\"\n",
    "\n",
    "# 각 행에 대해 추출적 요약 생성\n",
    "data['generated_summary'] = data['text'].apply(lambda x: generate_summary(x, ratio=0.1))\n",
    "\n",
    "# 비교 테이블 생성\n",
    "comparison_table = data[['text', 'headlines', 'generated_summary']]\n",
    "\n",
    "# 결과 출력\n",
    "print(comparison_table.head())"
   ]
  },
  {
   "cell_type": "code",
   "execution_count": 67,
   "metadata": {},
   "outputs": [],
   "source": [
    "#결과를 파일로 저장\n",
    "comparison_table.to_csv('comparison_table.csv', index=False, encoding='utf-8')"
   ]
  },
  {
   "cell_type": "code",
   "execution_count": null,
   "metadata": {},
   "outputs": [],
   "source": []
  }
 ],
 "metadata": {
  "colab": {
   "provenance": []
  },
  "kernelspec": {
   "display_name": "Python 3 (ipykernel)",
   "language": "python",
   "name": "python3"
  },
  "language_info": {
   "codemirror_mode": {
    "name": "ipython",
    "version": 3
   },
   "file_extension": ".py",
   "mimetype": "text/x-python",
   "name": "python",
   "nbconvert_exporter": "python",
   "pygments_lexer": "ipython3",
   "version": "3.9.7"
  }
 },
 "nbformat": 4,
 "nbformat_minor": 1
}
